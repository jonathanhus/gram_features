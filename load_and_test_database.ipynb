{
 "cells": [
  {
   "cell_type": "markdown",
   "metadata": {},
   "source": [
    "## Overview\n",
    "\n",
    "Using this notebook to test loading the vector database and retrieving Documents from the database"
   ]
  },
  {
   "cell_type": "code",
   "execution_count": 1,
   "metadata": {},
   "outputs": [],
   "source": [
    "import os\n",
    "from langchain_community.document_loaders import PyPDFLoader, TextLoader\n",
    "from langchain_text_splitters import RecursiveCharacterTextSplitter\n",
    "from langchain_openai import OpenAIEmbeddings\n",
    "from langchain_chroma import Chroma\n",
    "from pathlib import Path\n",
    "\n",
    "OPENAI_API_KEY = \"\"\n",
    "os.environ[\"OPENAI_API_KEY\"] = OPENAI_API_KEY\n",
    "LANGCHAIN_API_KEY = \"\"\n",
    "os.environ[\"LANGCHAIN_TRACING_V2\"] = \"true\"\n",
    "os.environ[\"LANGCHAIN_API_KEY\"] = LANGCHAIN_API_KEY"
   ]
  },
  {
   "cell_type": "code",
   "execution_count": 3,
   "metadata": {},
   "outputs": [],
   "source": [
    "import lingtypology.glottolog as glotto\n",
    "\n",
    "glotto.get_iso_by_glot_id('arap1274')\n",
    "\n",
    "def get_by_iso(iso_code):\n",
    "    name = glotto.get_by_iso(iso_code)\n",
    "    return name.replace(\" \", \"_\")"
   ]
  },
  {
   "cell_type": "markdown",
   "metadata": {},
   "source": [
    "## Retrieve From Database\n",
    "\n",
    "Assumes database is already loaded"
   ]
  },
  {
   "cell_type": "code",
   "execution_count": 4,
   "metadata": {},
   "outputs": [
    {
     "name": "stdout",
     "output_type": "stream",
     "text": [
      "Minangkabau\n"
     ]
    }
   ],
   "source": [
    "language = 'min'\n",
    "language_name = get_by_iso(language)\n",
    "print(language_name)\n",
    "\n",
    "CHROMA_PATH = \"./chroma_db\"\n",
    "# TEXT_DOC_PATH = f\"./resources/{language.lower()}/grammar_book_long.txt\""
   ]
  },
  {
   "cell_type": "markdown",
   "metadata": {},
   "source": [
    "## Create a Custom Retriever"
   ]
  },
  {
   "cell_type": "code",
   "execution_count": 17,
   "metadata": {},
   "outputs": [],
   "source": [
    "from typing import List, Tuple\n",
    "from pydantic import PrivateAttr\n",
    "from langchain.schema import Document  # Schema for document objects\n",
    "from langchain.schema.retriever import BaseRetriever  # Base class for retrievers\n",
    "from langchain.vectorstores import VectorStore  # VectorStore for similarity search\n",
    "\n",
    "class CustomRetriever(BaseRetriever):\n",
    "    _vector_store: VectorStore = PrivateAttr()\n",
    "\n",
    "    def __init__(self, vector_store: VectorStore):\n",
    "        super().__init__()\n",
    "        self._vector_store = vector_store\n",
    "\n",
    "    def _get_relevant_documents(self, query: str) -> List[Document]:\n",
    "        \"\"\"Retrieve relevant documents with scores and IDs.\"\"\"\n",
    "        results = self._vector_store.similarity_search_with_score(query)\n",
    "        \n",
    "        # Store scores and IDs in document metadata for future use\n",
    "        retrieved_docs = []\n",
    "        for doc, score in results:\n",
    "            doc.metadata[\"score\"] = score\n",
    "            doc.metadata[\"id\"] = doc.metadata.get(\"id\", \"unknown_id\")\n",
    "            retrieved_docs.append(doc)\n",
    "        \n",
    "        return retrieved_docs\n",
    "    \n",
    "    def retrieve_with_scores_and_ids(self, query: str, top_k: int = 5) -> List[Tuple[Document, float, str]]:\n",
    "        \"\"\"Retrieve documents with similarity scores and IDs.\"\"\"\n",
    "        results = self._vector_store.similarity_search_with_score(query, k=top_k)\n",
    "        \n",
    "        retrieved_docs = []\n",
    "        for doc, score in results:\n",
    "            doc_id = doc.metadata.get(\"id\", \"unknown_id\")\n",
    "            retrieved_docs.append((doc, score, doc_id))\n",
    "        \n",
    "        return retrieved_docs\n",
    "\n"
   ]
  },
  {
   "cell_type": "markdown",
   "metadata": {},
   "source": [
    "## Query Vectorstore"
   ]
  },
  {
   "cell_type": "code",
   "execution_count": 62,
   "metadata": {},
   "outputs": [
    {
     "name": "stdout",
     "output_type": "stream",
     "text": [
      "iloko\n",
      "kalamang\n",
      "mizo\n",
      "southern_jinghpaw\n",
      "minangkabau\n",
      "langchain\n"
     ]
    }
   ],
   "source": [
    "embeddings = OpenAIEmbeddings(openai_api_key=OPENAI_API_KEY)\n",
    "vectorstore = Chroma(embedding_function=embeddings, persist_directory=CHROMA_PATH)\n",
    "chroma_client = vectorstore._client\n",
    "\n",
    "# collections = db_chroma._client.list_collections()\n",
    "collections = chroma_client.list_collections()\n",
    "\n",
    "for collection in collections:\n",
    "    print(collection.name)\n",
    "\n",
    "# Delete a collection by name\n",
    "# chroma_client.delete_collection('ilo')"
   ]
  },
  {
   "cell_type": "code",
   "execution_count": 63,
   "metadata": {},
   "outputs": [],
   "source": [
    "embeddings = OpenAIEmbeddings(openai_api_key=OPENAI_API_KEY)\n",
    "embedding_db = Chroma(collection_name=language_name.lower(),\n",
    "                      embedding_function=embeddings,\n",
    "                      persist_directory=CHROMA_PATH\n",
    ")\n",
    "\n",
    "retriever = embedding_db.as_retriever(search_kwargs={'k': 2})"
   ]
  },
  {
   "cell_type": "code",
   "execution_count": 64,
   "metadata": {},
   "outputs": [
    {
     "data": {
      "text/plain": [
       "[Document(metadata={'source': 'resources/kalamang/grammar_book_long.txt'}, page_content=\"still day hundred=obj=foc wait\\n'[We are] still waiting for the hundredth day.' \\nQuantifiers are discussed in more detail in Chapter .quantifier)\\nPossessive pronounspossession!pronominal\\nBesides nominal possessors, there are two adnominal markers of possession: nominal possessive suffixes and freestanding possessive pronouns. They are described in detail in Chapter . Possessive suffixes attach to the head noun, as in ().\\nan kewe-an temun=at paruo\\n1sg house-1sg.poss big=obj make\\n'I am making my big house.' \\nPossessive pronouns occupy a slot between head nouns and demonstratives (more precisely, between quantifiers and attributively used verbs, but no example illustrating this is available). () illustrates a possessive pronoun preceding a demonstrative.\\ngambar kain yuwane\\npicture 2sg.poss prox\\n'this picture of yours' \\nDemonstrativesdemonstrative(\\nAs introduced in §, Kalamang has five demonstrative roots: proximal wa, distal me, far distal owa, and the elevationals yawe 'down' and osa 'up'. These can all be modified with locative =ko and lative =ka (Chapter ). Most, but not all forms can be preceded by yu- and followed by -ne without a change in meaning. The anaphoric demonstrative opa functions to mark referents that represent shared knowledge or have been previously mentioned. It does not occur with any affixes. A detailed description of demonstratives is found in Chapter .\\nAdnominal demonstratives fill the last slot in the NP. The following examples show the demonstratives in adnominal function. When they modify a noun in object function, the demonstrative roots carry -t, a remnant of object marker =at.\"),\n",
       " Document(metadata={'source': 'resources/kalamang/grammar_book_long.txt'}, page_content=\"Demonstratives and their syntactic use\\nThe following examples illustrate some common uses of demonstratives and their derived forms. Note that locative and lative forms of the demonstratives contain the phonemes -t and -n, which are likely remnants of now defunct morphology. To increase readability of the glosses, and because these forms are very frequent, the locative wa-t=ko and me-t=ko and lative wa-n=ka and me-n=ka are given as their surface forms watko, metko, wangga and mengga. Note also that the object forms of distal me and yawe 'down' are met and yawet (not me=at and yawe=at).\\nwangga mei\\nprox.lat come.imp\\n'Come here!'\\nan don met mormor\\n1sg thing dist.obj hide\\n'I hide that thing.'\\nmu amdir yawet paruot=kin\\n3pl garden down.obj make=\\n'They want to make that garden down there.'\\npulor opa tamatko\\nbetelvine where\\n'Where is that betel vine (that we just saw or talked about)?'\\nDemonstratives are discussed in Chapter .\\nVerbs\\nKalamang has regular and irregular verbsverb!irregular. Regular verbs can take mood enclitics, negator =nin and predicate linker =i directly on the root. Irregular verbs have a variable root ending in a vowel, -n or -t. This variation is apparent when the roots are inflected and from variation in the uninflected root. Table compares inflection of a regular verb with that of an irregular verb.\\nBehaviour of a regular and irregular verb under inflection\\nAlthough some syntactic and semantic tendencies can be identified (static intransitive verbs and Malay loans tend to be regular; many 'cut' verbs and all directional verbs are irregular), both groups contain verbs of all valencies and with all kinds of meanings. Verbs are not inflected for person or number, with the exception of plural imperative and a distributive suffix.person marking\\nThere are two processes of verb derivation: noun-to-verb derivation by reduplicationreduplication!verbs, and noun incorporation. These are illustrated in () and ().\\nbuok 'betel' → buokbuok 'to chew betel'\")]"
      ]
     },
     "execution_count": 64,
     "metadata": {},
     "output_type": "execute_result"
    }
   ],
   "source": [
    "retriever.invoke(\"Are there definite articles?\")"
   ]
  },
  {
   "cell_type": "markdown",
   "metadata": {},
   "source": [
    "## Using CustomRetriever"
   ]
  },
  {
   "cell_type": "code",
   "execution_count": 18,
   "metadata": {},
   "outputs": [
    {
     "name": "stderr",
     "output_type": "stream",
     "text": [
      "/var/folders/sw/qvdkpq595330l1byffq1zzbr0000gn/T/ipykernel_53058/1616682298.py:5: LangChainDeprecationWarning: The method `BaseRetriever.get_relevant_documents` was deprecated in langchain-core 0.1.46 and will be removed in 1.0. Use invoke instead.\n",
      "  relevant_docs = my_retriever.get_relevant_documents(\"What is retrieval-augmented generation?\")\n"
     ]
    },
    {
     "name": "stdout",
     "output_type": "stream",
     "text": [
      "ID: unknown_id, Score: 0.47433075308799744, Content: (Elicitation)\n",
      "\n",
      "Nagari tu\n",
      "\n",
      "disabuik nagari nan sadang bakambang.\n",
      "\n",
      "country DEM:dist PV-refer country REL PROG MID-bloom\n",
      "\n",
      "‘That country can be described as a developing country.’\n",
      "\n",
      "(Elicitation)\n",
      "\n",
      "The ba- verbs in examples (228), (229) and (230): babaka, ‘burn’, bagadangan, ‘stretch’, and baiduikan, ‘switch on’, resemble passives but can also be characterised as middle verbs. These verbs involve a change of state but their pivots possess both undergoer and actor elements.\n",
      "\n",
      "For example, notice that the pivot lauak tu, ‘the fish’, is semantically undergoer-like in (228a) but no external agent is implied. In (228b) the verb baka, ‘burn’, has been passivised by di-. In this example lauak tu is clearly an undergoer and even though an actor argument is not overtly expressed, it is clear that an external participant acted on the fish so that it became roasted. Also compare babaka in (228) to tabaka in example (197) (see Section 5.2.1). In (197) the pivot rumahnyo, ‘his house’, involuntarily or spontaneously caught fire whereas the babaka predicate implies that the event is occurring volitionally.\n",
      "\n",
      "(228) a. b.\n",
      "\n",
      "Lauak tu\n",
      "\n",
      "babaka jo baro.\n",
      "\n",
      "fish DEM:dist MID-roast with ember\n",
      "\n",
      "‘The fish is roasting in embers.’\n",
      "\n",
      "Lauak tu\n",
      "\n",
      "dibaka.\n",
      "\n",
      "fish DEM:dist PV-roast\n",
      "\n",
      "‘(Somebody) roasted the fish.’\n",
      "\n",
      "(Elicitation)\n",
      "\n",
      "Examples (229) and (230) are similarly somewhere in between an active and a passive. In (229a) we cannot definitively infer an external actor for bagadangan, ‘stretch’, but in\n",
      "\n",
      "167\n",
      "\n",
      "\f(229b) the event referred to by digadangan, ‘stretched’, is clearly initiated by an external actor, even though this participant is not overtly expressed.\n",
      "\n",
      "(229) a. b.\n",
      "\n",
      "Sarawah tu\n",
      "\n",
      "bagadangan supayo lapang.\n",
      "\n",
      "trouser DEM:dist MID-big-APP in.order.that loose\n",
      "\n",
      "‘The trousers got stretched until they were loose.’\n",
      "\n",
      "Sarawah tu\n",
      "\n",
      "digadangan supayo lapang.\n",
      "\n",
      "trouser DEM:dist PV-big-APP in.order.that loose\n",
      "\n",
      "‘(Somebody) stretched the trousers until they were loose.’\n",
      "\n",
      "(Elicitation)\n",
      "ID: unknown_id, Score: 0.47458091378211975, Content: (Elicitation)\n",
      "\n",
      "Nagari tu\n",
      "\n",
      "disabuik nagari nan sadang bakambang.\n",
      "\n",
      "country DEM:dist PV-refer country REL PROG MID-bloom\n",
      "\n",
      "‘That country can be described as a developing country.’\n",
      "\n",
      "(Elicitation)\n",
      "\n",
      "The ba- verbs in examples (228), (229) and (230): babaka, ‘burn’, bagadangan, ‘stretch’, and baiduikan, ‘switch on’, resemble passives but can also be characterised as middle verbs. These verbs involve a change of state but their pivots possess both undergoer and actor elements.\n",
      "\n",
      "For example, notice that the pivot lauak tu, ‘the fish’, is semantically undergoer-like in (228a) but no external agent is implied. In (228b) the verb baka, ‘burn’, has been passivised by di-. In this example lauak tu is clearly an undergoer and even though an actor argument is not overtly expressed, it is clear that an external participant acted on the fish so that it became roasted. Also compare babaka in (228) to tabaka in example (197) (see Section 5.2.1). In (197) the pivot rumahnyo, ‘his house’, involuntarily or spontaneously caught fire whereas the babaka predicate implies that the event is occurring volitionally.\n",
      "\n",
      "(228) a. b.\n",
      "\n",
      "Lauak tu\n",
      "\n",
      "babaka jo baro.\n",
      "\n",
      "fish DEM:dist MID-roast with ember\n",
      "\n",
      "‘The fish is roasting in embers.’\n",
      "\n",
      "Lauak tu\n",
      "\n",
      "dibaka.\n",
      "\n",
      "fish DEM:dist PV-roast\n",
      "\n",
      "‘(Somebody) roasted the fish.’\n",
      "\n",
      "(Elicitation)\n",
      "\n",
      "Examples (229) and (230) are similarly somewhere in between an active and a passive. In (229a) we cannot definitively infer an external actor for bagadangan, ‘stretch’, but in\n",
      "\n",
      "167\n",
      "\n",
      "\f(229b) the event referred to by digadangan, ‘stretched’, is clearly initiated by an external actor, even though this participant is not overtly expressed.\n",
      "\n",
      "(229) a. b.\n",
      "\n",
      "Sarawah tu\n",
      "\n",
      "bagadangan supayo lapang.\n",
      "\n",
      "trouser DEM:dist MID-big-APP in.order.that loose\n",
      "\n",
      "‘The trousers got stretched until they were loose.’\n",
      "\n",
      "Sarawah tu\n",
      "\n",
      "digadangan supayo lapang.\n",
      "\n",
      "trouser DEM:dist PV-big-APP in.order.that loose\n",
      "\n",
      "‘(Somebody) stretched the trousers until they were loose.’\n",
      "\n",
      "(Elicitation)\n",
      "ID: unknown_id, Score: 0.4870801866054535, Content: To examine this issue, first, let us look at the phenomenon of verbs that also function to refer, which is a prototypically nominal function. Examples (270) and (271) show how the two stative verbs berang, ‘angry’, and gaek, ‘old’, can function referentially.\n",
      "\n",
      "(270) a. b. c.\n",
      "\n",
      "Jan berang!\n",
      "PROHIB angry\n",
      "‘Don’t be angry!’\n",
      "\n",
      "(Elicitation)\n",
      "\n",
      "Tambah berang-berang Buayo ko.\n",
      "\n",
      "add\n",
      "\n",
      "RED-angry\n",
      "\n",
      "crocodile DEM:prox\n",
      "\n",
      "‘But Crocodile’s anger just increased.’\n",
      "\n",
      "(Text ID: 980031104710220607)\n",
      "\n",
      "Baa,\n",
      "\n",
      "tambah urang duo lai untuk maota?\n",
      "\n",
      "POSS-what add\n",
      "\n",
      "person two more for AV-talk\n",
      "\n",
      "‘How about we get two more people to chat?’\n",
      "\n",
      "(Text ID: 919266230255181006)\n",
      "\n",
      "In (270a), berang, ‘angry’, is functioning predicatively as a stative verb and is therefore obligatorily unmarked. In (270b) notice that berang remains morphologically unmarked even though it is performing a referential function. In (270b) berang-berang becomes the undergoer argument of the verb tambah, ‘add, increase’. Sentence (270c) shows the use of the ‘tambah + NP’ construction with a nominal urang duo, ‘two people’, for comparison with the sentence in (270b). Notice that both sentences have the same word order despite the fact that the roots berang and urang duo come from different parts of speech categories.\n",
      "\n",
      "Example (271) also illustrates how a stative verb root can function referentially but still be unmarked.\n",
      "\n",
      "(271) a.\n",
      "\n",
      "Rang tu\n",
      "\n",
      "lah gaek kini.\n",
      "\n",
      "person DEM:dist PFCT old now\n",
      "\n",
      "‘That person’s already old.’\n",
      "\n",
      "(Text ID: 532804094630120406)\n",
      "\n",
      "202\n",
      "\n",
      "\fb. Ado urang gaek mancari Apak.\n",
      "exist person old AV-find Father\n",
      "‘There’s an old person looking for you Sir.’\n",
      "\n",
      "(Elicitation)\n",
      "\n",
      "c. Nan gaek ko\n",
      "\n",
      "ndak tantu do\n",
      "\n",
      "ma.\n",
      "\n",
      "REL old DEM:prox NEG certain NEGPOL EMPH\n",
      "\n",
      "‘The old ones aren’t sure.’\n",
      "\n",
      "(Text ID: 742150150410290306)\n",
      "ID: unknown_id, Score: 0.48753124475479126, Content: To examine this issue, first, let us look at the phenomenon of verbs that also function to refer, which is a prototypically nominal function. Examples (270) and (271) show how the two stative verbs berang, ‘angry’, and gaek, ‘old’, can function referentially.\n",
      "\n",
      "(270) a. b. c.\n",
      "\n",
      "Jan berang!\n",
      "PROHIB angry\n",
      "‘Don’t be angry!’\n",
      "\n",
      "(Elicitation)\n",
      "\n",
      "Tambah berang-berang Buayo ko.\n",
      "\n",
      "add\n",
      "\n",
      "RED-angry\n",
      "\n",
      "crocodile DEM:prox\n",
      "\n",
      "‘But Crocodile’s anger just increased.’\n",
      "\n",
      "(Text ID: 980031104710220607)\n",
      "\n",
      "Baa,\n",
      "\n",
      "tambah urang duo lai untuk maota?\n",
      "\n",
      "POSS-what add\n",
      "\n",
      "person two more for AV-talk\n",
      "\n",
      "‘How about we get two more people to chat?’\n",
      "\n",
      "(Text ID: 919266230255181006)\n",
      "\n",
      "In (270a), berang, ‘angry’, is functioning predicatively as a stative verb and is therefore obligatorily unmarked. In (270b) notice that berang remains morphologically unmarked even though it is performing a referential function. In (270b) berang-berang becomes the undergoer argument of the verb tambah, ‘add, increase’. Sentence (270c) shows the use of the ‘tambah + NP’ construction with a nominal urang duo, ‘two people’, for comparison with the sentence in (270b). Notice that both sentences have the same word order despite the fact that the roots berang and urang duo come from different parts of speech categories.\n",
      "\n",
      "Example (271) also illustrates how a stative verb root can function referentially but still be unmarked.\n",
      "\n",
      "(271) a.\n",
      "\n",
      "Rang tu\n",
      "\n",
      "lah gaek kini.\n",
      "\n",
      "person DEM:dist PFCT old now\n",
      "\n",
      "‘That person’s already old.’\n",
      "\n",
      "(Text ID: 532804094630120406)\n",
      "\n",
      "202\n",
      "\n",
      "\fb. Ado urang gaek mancari Apak.\n",
      "exist person old AV-find Father\n",
      "‘There’s an old person looking for you Sir.’\n",
      "\n",
      "(Elicitation)\n",
      "\n",
      "c. Nan gaek ko\n",
      "\n",
      "ndak tantu do\n",
      "\n",
      "ma.\n",
      "\n",
      "REL old DEM:prox NEG certain NEGPOL EMPH\n",
      "\n",
      "‘The old ones aren’t sure.’\n",
      "\n",
      "(Text ID: 742150150410290306)\n"
     ]
    }
   ],
   "source": [
    "# Initialize with a vector store (like FAISS, ChromaDB, etc.)\n",
    "my_retriever = CustomRetriever(embedding_db)\n",
    "\n",
    "# Using the standard LangChain interface\n",
    "relevant_docs = my_retriever.get_relevant_documents(\"What is retrieval-augmented generation?\")\n",
    "for doc in relevant_docs:\n",
    "    print(f\"ID: {doc.metadata.get('id')}, Score: {doc.metadata.get('score')}, Content: {doc.page_content}\")\n"
   ]
  },
  {
   "cell_type": "markdown",
   "metadata": {},
   "source": []
  },
  {
   "cell_type": "markdown",
   "metadata": {},
   "source": [
    "## Load ChromaDB with Grammar Books"
   ]
  },
  {
   "cell_type": "markdown",
   "metadata": {},
   "source": [
    "Languages represented in Grambank that are also in Back to School paper. Languages are looked up in languages.csv file\n",
    "- min : Minangkabau\n",
    "- lus : Mizo\n",
    "- Wolof\n",
    "- Dinka???\n",
    "- Chuvash\n",
    "- gug : Guarani\n",
    "- kgv : Kalamang\n",
    "- ilo : Iloko (aka Ilokano)\n",
    "- kac : Kachin (aka Southern Jinghpaw)\n",
    "- ntu : Natugu"
   ]
  },
  {
   "cell_type": "markdown",
   "metadata": {},
   "source": [
    "### Setup\n",
    "\n",
    "Setup database connections. Also prints out existing collections."
   ]
  },
  {
   "cell_type": "code",
   "execution_count": 55,
   "metadata": {},
   "outputs": [
    {
     "name": "stdout",
     "output_type": "stream",
     "text": [
      "Minangkabau\n",
      "Mizo\n",
      "Southern_Jinghpaw\n",
      "Iloko\n",
      "Kalamang\n"
     ]
    }
   ],
   "source": [
    "# language = 'min'\n",
    "# language_name = get_by_iso(language)\n",
    "# print(language_name)\n",
    "\n",
    "CHROMA_PATH = \"./chroma_db\"\n",
    "\n",
    "languages = ['min', 'lus', 'kac', 'ilo', 'kgv']\n",
    "\n",
    "for language in languages:\n",
    "    print(get_by_iso(language))"
   ]
  },
  {
   "cell_type": "code",
   "execution_count": 59,
   "metadata": {},
   "outputs": [
    {
     "name": "stdout",
     "output_type": "stream",
     "text": [
      "langchain\n"
     ]
    }
   ],
   "source": [
    "embeddings = OpenAIEmbeddings(openai_api_key=OPENAI_API_KEY)\n",
    "vectorstore = Chroma(embedding_function=embeddings, persist_directory=CHROMA_PATH)\n",
    "chroma_client = vectorstore._client\n",
    "\n",
    "collections = chroma_client.list_collections()\n",
    "\n",
    "for collection in collections:\n",
    "    print(collection.name)\n"
   ]
  },
  {
   "cell_type": "code",
   "execution_count": 50,
   "metadata": {},
   "outputs": [
    {
     "data": {
      "text/plain": [
       "UUID('ae95619f-5ece-4ede-bf72-996bf59f4339')"
      ]
     },
     "execution_count": 50,
     "metadata": {},
     "output_type": "execute_result"
    }
   ],
   "source": [
    "collection.id"
   ]
  },
  {
   "cell_type": "markdown",
   "metadata": {},
   "source": [
    "### Delete Existing Database"
   ]
  },
  {
   "cell_type": "code",
   "execution_count": 58,
   "metadata": {},
   "outputs": [
    {
     "name": "stdout",
     "output_type": "stream",
     "text": [
      "Deleting collection langchain\n",
      "Deleting collection minangkabau\n"
     ]
    }
   ],
   "source": [
    "# Delete a collection by name\n",
    "# chroma_client.delete_collection('mizo')\n",
    "\n",
    "for collection in collections:\n",
    "    print(f\"Deleting collection {collection.name}\")\n",
    "    chroma_client.delete_collection(collection.name)\n",
    "    "
   ]
  },
  {
   "cell_type": "markdown",
   "metadata": {},
   "source": [
    "### Load Grammar Books into Database"
   ]
  },
  {
   "cell_type": "code",
   "execution_count": 21,
   "metadata": {},
   "outputs": [],
   "source": [
    "my_set = set()\n",
    "\n",
    "\n",
    "collection = chroma_client.get_or_create_collection(name='minangkabau')\n",
    "results = collection.get()\n",
    "# print(results.keys())\n",
    "hus = results['metadatas']\n",
    "# List document IDs\n",
    "# document_ids = results['ids']\n",
    "# for doc_id in document_ids:\n",
    "#     print(f\"Document ID: {doc_id}\")\n",
    "\n",
    "\n",
    "# for metadata in results['metadatas']:\n",
    "#     my_set.add(metadata['source'])\n",
    "# print(my_set)"
   ]
  },
  {
   "cell_type": "code",
   "execution_count": 30,
   "metadata": {},
   "outputs": [
    {
     "data": {
      "text/plain": [
       "dict_keys(['ids', 'embeddings', 'metadatas', 'documents', 'uris', 'data', 'included'])"
      ]
     },
     "execution_count": 30,
     "metadata": {},
     "output_type": "execute_result"
    }
   ],
   "source": [
    "results.keys()"
   ]
  },
  {
   "cell_type": "code",
   "execution_count": 46,
   "metadata": {},
   "outputs": [],
   "source": [
    "def get_resources_list(lang_name):\n",
    "    my_set = set()\n",
    "    collection = chroma_client.get_or_create_collection(name=lang_name)\n",
    "    results = collection.get()\n",
    "    # print(results.keys())\n",
    "    hus = results['metadatas']\n",
    "    # List document IDs\n",
    "    # document_ids = results['ids']\n",
    "    # for doc_id in document_ids:\n",
    "    #     print(f\"Document ID: {doc_id}\")\n",
    "\n",
    "\n",
    "    for metadata in results['metadatas']:\n",
    "        my_set.add(metadata['source'])\n",
    "    return my_set"
   ]
  },
  {
   "cell_type": "code",
   "execution_count": 61,
   "metadata": {},
   "outputs": [
    {
     "name": "stdout",
     "output_type": "stream",
     "text": [
      "COLLECTION NAME: Minangkabau\n",
      "Loading resource: resources/minangkabau/adelaar_proto-malayic1992v2_o.txt\n",
      "Loading resource: resources/minangkabau/zarbaliev_minangkabau1987_o.txt\n",
      "Loading resource: resources/minangkabau/reibaud_minangkabau2004_o.txt\n",
      "Loading resource: resources/minangkabau/crouch_minangkabau2009.txt\n",
      "COLLECTION NAME: Mizo\n",
      "Loading resource: resources/mizo/weidert_lushai1975_o.txt\n",
      "Loading resource: resources/mizo/subbarao_mizo1998_o.txt\n",
      "Loading resource: resources/mizo/chhangte_mizo1993_o.txt\n",
      "Loading resource: resources/mizo/chhangte_mizo1989_o.txt\n",
      "COLLECTION NAME: Southern_Jinghpaw\n",
      "Loading resource: resources/southern_jinghpaw/kurabe_jinghpaw2017_o.txt\n",
      "Loading resource: resources/southern_jinghpaw/hertz_kachin1902_o.txt\n",
      "Loading resource: resources/southern_jinghpaw/qingxia-diehl_jingpho2003_s.txt\n",
      "COLLECTION NAME: Iloko\n",
      "Loading resource: resources/iloko/espiritu_ilokano1984_o.txt\n",
      "COLLECTION NAME: Kalamang\n",
      "Loading resource: resources/kalamang/grammar_book_long.txt\n"
     ]
    }
   ],
   "source": [
    "text_splitter = RecursiveCharacterTextSplitter(\n",
    "    chunk_size = 2000,\n",
    "    chunk_overlap = 200,\n",
    "    length_function = len,\n",
    "    is_separator_regex=False\n",
    ")\n",
    "\n",
    "for language in languages:\n",
    "    language_name = get_by_iso(language)\n",
    "    print(f\"COLLECTION NAME: {language_name}\")\n",
    "\n",
    "    resource_directory = Path(f\"./resources/{language_name.lower()}\")\n",
    "    resources = list(resource_directory.glob('*.txt'))\n",
    "\n",
    "    for resource in resources:\n",
    "        print(f\"Loading resource: {resource}\")\n",
    "        # loader = TextLoader(TEXT_DOC_PATH)\n",
    "        loader = TextLoader(resource)\n",
    "        pages = loader.load()\n",
    "\n",
    "        chunks = text_splitter.split_documents(pages)\n",
    "\n",
    "        embeddings = OpenAIEmbeddings(openai_api_key=OPENAI_API_KEY)\n",
    "        # db_chroma = Chroma.from_documents(chunks, embeddings, persist_directory=CHROMA_PATH)\n",
    "        db_chroma = Chroma.from_documents(documents=chunks, collection_name=language_name.lower(), embedding=embeddings, persist_directory=CHROMA_PATH)"
   ]
  },
  {
   "cell_type": "code",
   "execution_count": null,
   "metadata": {},
   "outputs": [],
   "source": []
  }
 ],
 "metadata": {
  "kernelspec": {
   "display_name": "venv",
   "language": "python",
   "name": "python3"
  },
  "language_info": {
   "codemirror_mode": {
    "name": "ipython",
    "version": 3
   },
   "file_extension": ".py",
   "mimetype": "text/x-python",
   "name": "python",
   "nbconvert_exporter": "python",
   "pygments_lexer": "ipython3",
   "version": "3.12.4"
  }
 },
 "nbformat": 4,
 "nbformat_minor": 2
}
