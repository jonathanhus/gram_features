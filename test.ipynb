{
 "cells": [
  {
   "cell_type": "markdown",
   "metadata": {},
   "source": [
    "# RAG for Grammar Books\n",
    "Notebook to retrieve linguistic information from grammar books\n",
    "\n",
    "Basic Overview of RAG using LangChain can be found here:\\\n",
    "https://python.langchain.com/docs/tutorials/rag/\n",
    "\n",
    "https://python.langchain.com/docs/concepts/ \\\n",
    "https://github.com/langchain-ai/rag-from-scratch\n",
    "\n",
    "**VectorStore Info**\\\n",
    "https://python.langchain.com/docs/how_to/vectorstores/ \\\n",
    "https://python.langchain.com/docs/integrations/vectorstores/chroma/#query-by-turning-into-retriever\n",
    "\n",
    "**API Reference**\\\n",
    "https://python.langchain.com/api_reference/\n"
   ]
  },
  {
   "cell_type": "markdown",
   "metadata": {},
   "source": [
    "### Do imports"
   ]
  },
  {
   "cell_type": "code",
   "execution_count": 1,
   "metadata": {},
   "outputs": [
    {
     "name": "stderr",
     "output_type": "stream",
     "text": [
      "USER_AGENT environment variable not set, consider setting it to identify your requests.\n"
     ]
    }
   ],
   "source": [
    "import os\n",
    "from langchain_community.document_loaders import PyPDFLoader, TextLoader\n",
    "# from langchain.text_splitter import RecursiveCharacterTextSplitter\n",
    "from langchain_openai import OpenAIEmbeddings\n",
    "from langchain_openai import ChatOpenAI\n",
    "from langchain_community.vectorstores import Chroma\n",
    "import bs4\n",
    "from langchain import hub\n",
    "from langchain_chroma import Chroma\n",
    "from langchain_community.document_loaders import WebBaseLoader\n",
    "from langchain_core.output_parsers import StrOutputParser\n",
    "from langchain_core.runnables import RunnablePassthrough\n",
    "# from langchain_openai import OpenAIEmbeddings\n",
    "from langchain_text_splitters import RecursiveCharacterTextSplitter\n",
    "from langchain.chains.combine_documents import create_stuff_documents_chain\n",
    "# from langchain.chat_models import ChatOpenAI\n",
    "from langchain_core.prompts import ChatPromptTemplate\n",
    "from langchain.chains import create_retrieval_chain"
   ]
  },
  {
   "cell_type": "markdown",
   "metadata": {},
   "source": [
    "Specify grammar book to use and the OpenAI API key"
   ]
  },
  {
   "cell_type": "code",
   "execution_count": 2,
   "metadata": {},
   "outputs": [],
   "source": [
    "DOC_PATH = \"./resources/kalamang/kalamang-grammar.pdf\"\n",
    "CHROMA_PATH = \"db_name\"\n",
    "OPENAI_API_KEY = \"put-key-here\"\n",
    "os.environ[\"OPENAI_API_KEY\"] = OPENAI_API_KEY\n",
    "LANGCHAIN_API_KEY = \"put-key-here\"\n",
    "os.environ[\"LANGCHAIN_TRACING_V2\"] = \"true\"\n",
    "os.environ[\"LANGCHAIN_API_KEY\"] = LANGCHAIN_API_KEY"
   ]
  },
  {
   "cell_type": "markdown",
   "metadata": {},
   "source": [
    "## Use this for PDF files\n",
    "Currently it's splitting on pages in the pdf document"
   ]
  },
  {
   "cell_type": "code",
   "execution_count": 32,
   "metadata": {},
   "outputs": [],
   "source": [
    "loader = PyPDFLoader(DOC_PATH)\n",
    "pages = loader.load()\n",
    "\n",
    "# text_splitter = RecursiveCharacterTextSplitter(chunk_size=500, chunk_overlap=50)\n",
    "# chunks = text_splitter.split_documents(pages)\n",
    "\n",
    "embeddings = OpenAIEmbeddings(openai_api_key=OPENAI_API_KEY)\n",
    "# db_chroma = Chroma.from_documents(chunks, embeddings, persist_directory=CHROMA_PATH)\n",
    "db_chroma = Chroma.from_documents(documents=pages, collection_name=\"lang_db\", embedding=embeddings, persist_directory=CHROMA_PATH)"
   ]
  },
  {
   "cell_type": "code",
   "execution_count": 31,
   "metadata": {},
   "outputs": [
    {
     "ename": "NameError",
     "evalue": "name 'embeddings' is not defined",
     "output_type": "error",
     "traceback": [
      "\u001b[0;31m---------------------------------------------------------------------------\u001b[0m",
      "\u001b[0;31mNameError\u001b[0m                                 Traceback (most recent call last)",
      "Cell \u001b[0;32mIn[31], line 3\u001b[0m\n\u001b[1;32m      1\u001b[0m \u001b[38;5;66;03m# Test loading the database\u001b[39;00m\n\u001b[1;32m      2\u001b[0m embedding_db \u001b[38;5;241m=\u001b[39m Chroma(collection_name\u001b[38;5;241m=\u001b[39m\u001b[38;5;124m\"\u001b[39m\u001b[38;5;124mlang_db\u001b[39m\u001b[38;5;124m\"\u001b[39m,\n\u001b[0;32m----> 3\u001b[0m                       embedding_function\u001b[38;5;241m=\u001b[39m\u001b[43membeddings\u001b[49m,\n\u001b[1;32m      4\u001b[0m                       persist_directory\u001b[38;5;241m=\u001b[39mCHROMA_PATH\n\u001b[1;32m      5\u001b[0m )\n\u001b[1;32m      7\u001b[0m new_retriever \u001b[38;5;241m=\u001b[39m embedding_db\u001b[38;5;241m.\u001b[39mas_retriever(search_kwargs\u001b[38;5;241m=\u001b[39m{\u001b[38;5;124m'\u001b[39m\u001b[38;5;124mk\u001b[39m\u001b[38;5;124m'\u001b[39m: \u001b[38;5;241m2\u001b[39m})\n\u001b[1;32m      8\u001b[0m docs \u001b[38;5;241m=\u001b[39m new_retriever\u001b[38;5;241m.\u001b[39minvoke(\u001b[38;5;124m\"\u001b[39m\u001b[38;5;124mWhat is the basic sentence structure of the language? Does it use subject-verb-object or aubject-object-verb\u001b[39m\u001b[38;5;124m\"\u001b[39m)\n",
      "\u001b[0;31mNameError\u001b[0m: name 'embeddings' is not defined"
     ]
    }
   ],
   "source": [
    "# Test loading the database\n",
    "embedding_db = Chroma(collection_name=\"lang_db\",\n",
    "                      embedding_function=embeddings,\n",
    "                      persist_directory=CHROMA_PATH\n",
    ")\n",
    "\n",
    "new_retriever = embedding_db.as_retriever(search_kwargs={'k': 2})\n",
    "docs = new_retriever.invoke(\"What is the basic sentence structure of the language? Does it use subject-verb-object or aubject-object-verb\")\n",
    "len(docs)"
   ]
  },
  {
   "cell_type": "code",
   "execution_count": 6,
   "metadata": {},
   "outputs": [
    {
     "data": {
      "text/plain": [
       "Document(metadata={'page': 337, 'source': './resources/kalamang/kalamang-grammar.pdf'}, page_content='12 The clause\\n12.6 Variation in clausal structure\\nTwocommonpatternsofvariationapplytoKalamangclausalstructure.Thefirst\\nis elision of arguments, and the second is reordering of constituents to mark\\ntopics and anti-topics. Arguments that are retrievable from the context may be\\nelided, especially in dialogues. This is described in § 12.6.1. The marking of topic\\nand anti-topic is described in § 12.6.2.\\n12.6.1 Elision of arguments\\nIn natural spoken Kalamang, when retrievable from the context, either the sub-\\nject or the object may be elided, depending on which stays the same across\\nclauses or utterances.\\nAn example of subject elision is given in ( 116). The first clause contains both\\nsubjectandobject.Theobjectandpredicatearerepeatedinthenextclauseasan\\ninstance of tail-head linkage (§ 15.1.3). In the second and third clause, the subject\\nis elided.\\n(116)Mu\\nmu\\n3plhe\\nse\\niamerat\\net=at\\ncanoe=objdimarua.\\ndi=marua\\ncaus=move_seawardsErat\\net=at\\ncanoe=objdimarua,\\ndi=marua\\ncaus=move_seawards\\nkaiat\\nkai=at\\nfirewood=objdisara.\\ndi=sara\\ncaus=ascend\\n‘They moved the canoe towards the water. Moved the canoe towards the\\nwater, put the firewood on.’ [narr19_1:32]\\nSubject elision is also possible when the subject has been mentioned by an-\\nother speaker. Consider the following dialogue, where speaker B responds to\\nspeaker A eliding the transitive subject (the first response of speaker B) and the\\nintransitive subject (the second response of speaker B).\\n(117)A:taman-un\\nfriend-3possmat\\n3sg.objajak=te\\ninvite=nfinkasi\\ngiveminuman\\ndrink\\n‘His friends invite him, give him drinks.’\\nB:mat\\n3sg.objnacoba\\ntry\\n‘[They] try him’\\n314')"
      ]
     },
     "execution_count": 6,
     "metadata": {},
     "output_type": "execute_result"
    }
   ],
   "source": [
    "docs[1]"
   ]
  },
  {
   "cell_type": "code",
   "execution_count": 7,
   "metadata": {},
   "outputs": [],
   "source": [
    "# Test retrieval\n",
    "retriever = db_chroma.as_retriever(search_type=\"mmr\", search_kwargs={\"k\": 2})\n",
    "\n",
    "docs = retriever.invoke(\"What is the basic sentence structure of the language? Does it use subject-verb-object or aubject-object-verb\")\n"
   ]
  },
  {
   "cell_type": "code",
   "execution_count": 8,
   "metadata": {},
   "outputs": [
    {
     "data": {
      "text/plain": [
       "Document(metadata={'page': 117, 'source': './resources/kalamang/kalamang-grammar.pdf'}, page_content='3 Phonetics, phonology and morphophonology\\n(a) Focused subject\\n (b) Neutral subject\\nFigure 3.17 :Intonation of a clause with a focused subject and with a\\nneutral subject\\n(a) Focused object\\n (b) Neutral object\\nFigure 3.18 :Intonation of a clause with a focused object and with a\\nneutral object\\n(a) Focused verb\\n (b) Neutral verb\\nFigure 3.19 :Intonation of a clause with a focused verb and with a neu-\\ntral verb\\n94')"
      ]
     },
     "execution_count": 8,
     "metadata": {},
     "output_type": "execute_result"
    }
   ],
   "source": [
    "docs[1]"
   ]
  },
  {
   "cell_type": "markdown",
   "metadata": {},
   "source": [
    "## Use this for text documents\n",
    " - Skipping for now"
   ]
  },
  {
   "cell_type": "code",
   "execution_count": 3,
   "metadata": {},
   "outputs": [],
   "source": [
    "TEXT_DOC_PATH = \"./resources/kalamang/grammar_book_long.txt\"\n",
    "\n",
    "# with open(TEXT_DOC_PATH) as f:\n",
    "#     book = f.read()\n",
    "\n",
    "loader = TextLoader(TEXT_DOC_PATH)\n",
    "pages = loader.load()\n",
    "\n",
    "text_splitter = RecursiveCharacterTextSplitter(\n",
    "    chunk_size = 1000,\n",
    "    chunk_overlap = 100,\n",
    "    length_function = len,\n",
    "    is_separator_regex=False\n",
    ")\n",
    "\n",
    "chunks = text_splitter.split_documents(pages)\n",
    "\n",
    "# loader = PyPDFLoader(DOC_PATH)\n",
    "# pages = loader.load()\n",
    "\n",
    "# text_splitter = RecursiveCharacterTextSplitter(chunk_size=500, chunk_overlap=50)\n",
    "# chunks = text_splitter.split_documents(texts)\n",
    "\n",
    "embeddings = OpenAIEmbeddings(openai_api_key=OPENAI_API_KEY)\n",
    "db_chroma = Chroma.from_documents(chunks, embeddings, persist_directory=CHROMA_PATH)"
   ]
  },
  {
   "cell_type": "markdown",
   "metadata": {},
   "source": [
    "## Combined PDF and Text Loader\n",
    "Performs the following on all pdf and txt files in a resource directory\n",
    "- Load\n",
    "- Split/Chunk\n",
    "- Store\n",
    "\n",
    "SKIPPING FOR NOW. Just using the PDF for prototyping."
   ]
  },
  {
   "cell_type": "code",
   "execution_count": 16,
   "metadata": {},
   "outputs": [],
   "source": [
    "directory = \"./resources/kalamang\"\n",
    "documents = []\n",
    "for file in os.listdir(directory):\n",
    "    if file.endswith(\".pdf\"):\n",
    "        pdf_path = os.path.join(directory, file)\n",
    "        loader = PyPDFLoader(pdf_path)\n",
    "        documents.extend(loader.load())\n",
    "    elif file.endswith(\".txt\"):\n",
    "        txt_path = os.path.join(directory, file)\n",
    "        loader = TextLoader(txt_path)\n",
    "        documents.extend(loader.load())\n",
    "\n",
    "text_splitter = RecursiveCharacterTextSplitter(\n",
    "    chunk_size = 2000,\n",
    "    chunk_overlap = 200,\n",
    "    length_function = len,\n",
    "    is_separator_regex=False\n",
    ")\n",
    "\n",
    "chunked_documents = text_splitter.split_documents(documents)\n",
    "embeddings = OpenAIEmbeddings(openai_api_key=OPENAI_API_KEY)\n",
    "db_chroma = Chroma.from_documents(chunks, embeddings, persist_directory=CHROMA_PATH)"
   ]
  },
  {
   "cell_type": "code",
   "execution_count": 50,
   "metadata": {},
   "outputs": [
    {
     "data": {
      "text/plain": [
       "OpenAIEmbeddings(client=<openai.resources.embeddings.Embeddings object at 0x12c68e810>, async_client=<openai.resources.embeddings.AsyncEmbeddings object at 0x12f0045f0>, model='text-embedding-ada-002', dimensions=None, deployment='text-embedding-ada-002', openai_api_version='', openai_api_base=None, openai_api_type='', openai_proxy='', embedding_ctx_length=8191, openai_api_key=SecretStr('**********'), openai_organization=None, allowed_special=None, disallowed_special=None, chunk_size=1000, max_retries=2, request_timeout=None, headers=None, tiktoken_enabled=True, tiktoken_model_name=None, show_progress_bar=False, model_kwargs={}, skip_empty=False, default_headers=None, default_query=None, retry_min_seconds=4, retry_max_seconds=20, http_client=None, http_async_client=None, check_embedding_ctx_length=True)"
      ]
     },
     "execution_count": 50,
     "metadata": {},
     "output_type": "execute_result"
    }
   ],
   "source": [
    "# Play area to inspect load, split, and index\n",
    "# len(documents[0].page_content)\n",
    "embeddings"
   ]
  },
  {
   "cell_type": "markdown",
   "metadata": {},
   "source": [
    "---\n",
    "## Perform Retrieval\n",
    "\n",
    "This does simple retrieval from the vector database."
   ]
  },
  {
   "cell_type": "code",
   "execution_count": 4,
   "metadata": {},
   "outputs": [
    {
     "name": "stderr",
     "output_type": "stream",
     "text": [
      "/Users/jonhus/vs-code/grammar-rag/venv/lib/python3.12/site-packages/langsmith/client.py:5301: LangChainBetaWarning: The function `loads` is in beta. It is actively being worked on, so the API may change.\n",
      "  prompt = loads(json.dumps(prompt_object.manifest))\n"
     ]
    },
    {
     "data": {
      "text/plain": [
       "'The basic sentence structure of the language is subject-object-verb in a transitive clause. Arguments precede the predicate in Kalamang. The object is marked with =at at the end of the object noun phrase.'"
      ]
     },
     "execution_count": 4,
     "metadata": {},
     "output_type": "execute_result"
    }
   ],
   "source": [
    "retriever = db_chroma.as_retriever()\n",
    "prompt = hub.pull(\"rlm/rag-prompt\")\n",
    "llm = ChatOpenAI()\n",
    "\n",
    "def format_pages(pages):\n",
    "    return \"\\n\\n\".join(page.page_content for page in pages)\n",
    "\n",
    "\n",
    "rag_chain = (\n",
    "    {\"context\": retriever | format_pages, \"question\": RunnablePassthrough()}\n",
    "    | prompt\n",
    "    | llm\n",
    "    | StrOutputParser()\n",
    ")\n",
    "\n",
    "rag_chain.invoke(\"What is the basic sentence structure of the language? Does it use subject-verb-object or aubject-object-verb or something else?\")"
   ]
  },
  {
   "cell_type": "markdown",
   "metadata": {},
   "source": [
    "## Perform Retrievel - Showing Sources\n",
    "#### This time showing documents in the context\n",
    "Based on this:\n",
    "https://python.langchain.com/docs/how_to/qa_sources/\n",
    "\n",
    "Useful API docs:\n",
    "\n",
    "https://python.langchain.com/api_reference/langchain/chains/langchain.chains.combine_documents.stuff.create_stuff_documents_chain.html"
   ]
  },
  {
   "cell_type": "code",
   "execution_count": 5,
   "metadata": {},
   "outputs": [
    {
     "name": "stdout",
     "output_type": "stream",
     "text": [
      "The basic and unmarked transitive clause structure in Kalamang is subject-object-verb, with nominative-accusative alignment. Subject and object are differentiated by constituent order and object marking. In ditransitive clause constructions, the constituent order can vary as agent-theme-recipient-verb or agent-recipient-theme-verb.\n"
     ]
    }
   ],
   "source": [
    "retriever = db_chroma.as_retriever()\n",
    "llm = ChatOpenAI()\n",
    "\n",
    "system_prompt = (\n",
    "    \"You are an assistant for question-answering tasks.\"\n",
    "    \"Use the following pieces of retrieved context to answer \"\n",
    "    \"the question. Use three sentences maximum.\"\n",
    "    \"\\n\\n\"\n",
    "    \"{context}\"\n",
    ")\n",
    "\n",
    "prompt = ChatPromptTemplate.from_messages(\n",
    "    [\n",
    "        (\"system\", system_prompt),\n",
    "        (\"human\", \"{input}\"),\n",
    "    ]\n",
    ")\n",
    "\n",
    "question_answer_chain = create_stuff_documents_chain(llm, prompt)\n",
    "new_rag_chain = create_retrieval_chain(retriever, question_answer_chain)\n",
    "\n",
    "# Returns a dict with 'input', 'context', 'answer'\n",
    "result = new_rag_chain.invoke({\"input\": \"What is the basic sentence structure of the language? Does it use subject-verb-object or aubject-object-verb or something else?\"})\n",
    "print(result['answer'])"
   ]
  },
  {
   "cell_type": "markdown",
   "metadata": {},
   "source": [
    "The \"context\" in the returned result contains a list of Documents. Each Document contains metadata and content\n",
    "\n",
    "https://python.langchain.com/api_reference/core/documents/langchain_core.documents.base.Document.html"
   ]
  },
  {
   "cell_type": "code",
   "execution_count": 7,
   "metadata": {},
   "outputs": [
    {
     "data": {
      "text/plain": [
       "{'input': 'What is the basic sentence structure of the language? Does it use subject-verb-object or aubject-object-verb or something else?',\n",
       " 'context': [Document(metadata={'source': './resources/kalamang/grammar_book_long.txt'}, page_content='All arguments precede the predicate. The constituent orderconstituent order in a basic and unmarked transitive clause is subject-object-verb, with nominative-accusative alignmentalignmentaccusativeseealignment.\\nA simplified template of the clause structure is given in (). A large number of clausal modifiers, including aspect, mood, modal markers and adverbials, occur in different slots in the clause and are described in Chapter . Many adverbials, aspect markers and mood markers attach to the predicate. The predicate can be complex and is, except in Chapter , discussed in Chapter and Chapter . In this chapter, I focus on simple verbal and non-verbal predicates.\\nclause structure\\n(Subj NP) (Obj NP=obj) (Indirect Obj NP) Pred\\nSubject and object are formally differentiated by constituent order and object marking (=at) on the last constituent of the object NP. () and () illustrate these characteristics for a transitive and intransitive clause, respectively.\\nbal se sor=at koraru'),\n",
       "  Document(metadata={'source': './resources/kalamang/grammar_book_long.txt'}, page_content=\"Ditransitive clause constructions\\nShowing and sending\\nThe first strategy, with object marker =at on both themetheme and recipientrecipient, was elicited with the verbs naunak 'to show', kiempanaet 'to send' and kama 'to send'. The constituent order can be either agent-theme-recipient-verb (ATRV) or agent-recipient-theme-verb (ARTV), as illustrated in ().\\ntumunA guru=atT buk=atR naunak\\nchild teacher=obj book=obj show\\n'The child shows the teacher the book.'\\ntumunA buk=atR guru=atT naunak\\nchild book=obj teacher=obj show\\n'The child shows the teacher the book.' \\nIn elicitation it was easy to get all three participants mentioned, but in the corpus the theme is almost always elided, as in (). The theme, the object that the speaker wants the addressee to show, is clear from the context.\\nkaA enem=atR naunak=te\\n2sg woman=obj show=imp\\n'You show [it] to the woman!'\"),\n",
       "  Document(metadata={'source': './resources/kalamang/grammar_book_long.txt'}, page_content=\"'My wife's mistake doesn't matter.' \\nVariation in clausal structurevariation!syntax\\nTwo common patterns of variation apply to Kalamang clausal structure. The first is elision of arguments, and the second is reordering of constituents to mark topics and anti-topics. Arguments that are retrievable from the context may be elided, especially in dialogues. This is described in §. The marking of topic and anti-topic is described in §.\\nElision of argumentselision\\nIn natural spoken Kalamang, when retrievable from the context, either the subject or the object may be elided, depending on which stays the same across clauses or utterances.\\nAn example of subject elisionelision!subject is given in (). The first clause contains both subject and object. The object and predicate are repeated in the next clause as an instance of tail-head linkagetail-head linkage (§). In the second and third clause, the subject is elided.\\nMu he erat dimarua. Erat dimarua, kaiat disara.\"),\n",
       "  Document(metadata={'source': './resources/kalamang/grammar_book_long.txt'}, page_content='I start with a description of the major open word classes: verbs (§) and nouns (§). Pronouns, a closed subclass of nouns, are described in §. The closed minor word classes are described subsequently: quantifiers in §, demonstratives in §, postpositions in §, adverbials in §, question words in §, conjunctions in § and interjections in §. Each section starts with a summary of the criteria used to define the class, followed by examples.\\nVerbsverb(\\nThe open class of verbs consists of words that typically function as predicates. A predicate is an expression that takes a subject to form a clause, and it expresses something about this subject. Furthermore, verbs:\\nmay occur in complex predicatespredicate!complex;\\nmay be used as adnominal modifiersattribute with attributive marker =ten.')],\n",
       " 'answer': 'The basic and unmarked transitive clause structure in Kalamang is subject-object-verb, with nominative-accusative alignment. Subject and object are differentiated by constituent order and object marking. In ditransitive clause constructions, the constituent order can vary as agent-theme-recipient-verb or agent-recipient-theme-verb.'}"
      ]
     },
     "execution_count": 7,
     "metadata": {},
     "output_type": "execute_result"
    }
   ],
   "source": [
    "result"
   ]
  },
  {
   "cell_type": "code",
   "execution_count": 6,
   "metadata": {},
   "outputs": [
    {
     "name": "stdout",
     "output_type": "stream",
     "text": [
      "The answer used 4 sources.\n",
      "\n",
      "{'source': './resources/kalamang/grammar_book_long.txt'}\n",
      "All arguments precede the predicate. The constituent orderco\n",
      "\n",
      "{'source': './resources/kalamang/grammar_book_long.txt'}\n",
      "Ditransitive clause constructions\n",
      "Showing and sending\n",
      "The fi\n",
      "\n",
      "{'source': './resources/kalamang/grammar_book_long.txt'}\n",
      "'My wife's mistake doesn't matter.' \n",
      "Variation in clausal st\n",
      "\n",
      "{'source': './resources/kalamang/grammar_book_long.txt'}\n",
      "I start with a description of the major open word classes: v\n",
      "\n"
     ]
    }
   ],
   "source": [
    "print(f\"The answer used {len(result['context'])} sources.\\n\")\n",
    "\n",
    "for document in result[\"context\"]:\n",
    "    print(document.metadata)\n",
    "    print(document.page_content[0:60])\n",
    "    print()"
   ]
  },
  {
   "cell_type": "markdown",
   "metadata": {},
   "source": [
    "## Test Questions to Run on Chains\n",
    "\n",
    "This section contains a number of questions that we'd like to be able to answer using grammar books.\n",
    "\n",
    "<code>rag_chain</code> takes the question as an argument.\\\n",
    "<code>new_rag_chain</code> takes a dict as an argument."
   ]
  },
  {
   "cell_type": "code",
   "execution_count": 117,
   "metadata": {},
   "outputs": [
    {
     "name": "stdout",
     "output_type": "stream",
     "text": [
      "The language uses the basic sentence structure with the order of agent-theme-recipient-verb or agent-recipient-theme-verb. Arguments can be elided in natural spoken Kalamang when retrievable from the context. Subject elision is possible in dialogues when the subject has been mentioned by another speaker.\n"
     ]
    }
   ],
   "source": [
    "question = \"What is the basic sentence structure of the language? Does it use subject-verb-object or aubject-object-verb\"\n",
    "response = rag_chain.invoke(question)\n",
    "print(response)"
   ]
  },
  {
   "cell_type": "code",
   "execution_count": 22,
   "metadata": {},
   "outputs": [
    {
     "data": {
      "text/plain": [
       "\"Plural forms of nouns can be constructed through reduplication, where some nouns may be reduplicated to indicate plurality. However, not all nouns can be reduplicated to form a plural, and the ones that can do not necessarily need to be reduplicated to show plurality. For example, 'pes' becomes 'pespes' for 'peels; skins; leftovers after peeling'.\""
      ]
     },
     "execution_count": 118,
     "metadata": {},
     "output_type": "execute_result"
    }
   ],
   "source": [
    "rag_chain.invoke(\"How are plural forms of nouns constructed?\")"
   ]
  },
  {
   "cell_type": "code",
   "execution_count": 92,
   "metadata": {},
   "outputs": [
    {
     "data": {
      "text/plain": [
       "{'input': 'How are plural forms of nouns constructed?',\n",
       " 'context': [Document(metadata={'source': './resources/kalamang/grammar_book_long.txt'}, page_content=\"Derivation of plural nounsplural!nominalnoun derivation!plural\\nThough plurality of nominal referents is not obligatorily expressed on nouns, some nouns may be reduplicated to that effect. Most nouns cannot be reduplicated to form a plural, and those that can need not be reduplicated to have a plural referent. plural!nominal\\npes 'peel; skin' → pespes 'peels; skins; leftovers after peeling'\\nlempuang 'island' → lempuangpuang 'islands'\\ntumun 'child' → tumtum 'children'\\nDistributivitynoun derivation!distributivedistributive\\nReduplication of nouns that refer to a location can be used to indicate distributivity. () and () are from recordings about where certain plants can be found. () has a reduplicated oskeit 'beach' (from os 'sand' and keit 'top'), as well as a reduplicated verb kos 'to grow' to indicate distribution or habituality (§). () has a reduplicated osep 'beach' (perhaps from os 'sand' and ep 'back').\\nbiasa oskeit∼keit=ko kos∼kos=te\\nnormally beach∼distr=loc grow∼distr=\"),\n",
       "  Document(metadata={'page': 187, 'source': './resources/kalamang/kalamang-grammar.pdf'}, page_content='6 Nouns, noun phrases and postpositional phrases\\nc.kor\\nlegkasir\\njoint\\n‘ankle’\\nd.kor-pak\\nleg-moon\\n‘knee’\\nFormanyright-headedcompounds,thechoicebetweenusingornotusing -un\\n‘3poss’ is free. They are both compounds because the first constituent cannot be\\nindependently marked or inflected.\\n(30)compounds with and without -un3poss\\na.kokok-nar\\nchicken-egg\\n‘chicken egg’\\nb.kokok\\nchickennar-un\\negg\\n‘chicken egg’\\n6.2.4 Reduplication of nouns\\nReduplication of nouns is used to create plural nouns (§ 6.2.4.1), to indicate dis-\\ntributivity (§ 6.2.4.2), to indicate extremity (§ 6.2.4.3) or to create other nouns by\\nassociation or nouns expressing in-between states (§ 6.2.4.4). The derivation of\\nverbs from nouns by means of reduplication is described in § 11.2.2. The formal\\naspects of reduplication are described in § 4.2.1.\\n6.2.4.1 Derivation of plural nouns\\nThough plurality of nominal referents is not obligatorily expressed on nouns,\\nsome nouns may be reduplicated to that effect. Most nouns cannot be redupli-\\ncated to form a plural, and those that can need not be reduplicated to have a\\nplural referent.\\n(31)a.pes‘peel; skin’ → pespes‘peels; skins; leftovers after peeling’\\nb.lempuang ‘island’ → lempuangpuang ‘islands’\\nc.tumun‘child’ → tumtum ‘children’\\n164'),\n",
       "  Document(metadata={'page': 179, 'source': './resources/kalamang/kalamang-grammar.pdf'}, page_content='6 Nouns, noun phrases and postpositional phrases\\n(11)nasuena\\nsugarbolon-i\\nlittle-objqntbaran\\ndescend\\n‘[You] put a little sugar in.’ [conv11_1:55]\\nSome nouns occur with classifiers when modified by a numeral (§ 8.1.1). There\\nisadifferencebetweenconstructionswithamassnouncombinedwithameasure\\nnounontheonehand,anda(mass)nounwithaclassifierontheotherhand.First,\\nthe use of classifiers is not obligatory in Kalamang, whereas the use of a mass\\nnoundirectlyfollowedbyanumeral(withoutameasurenoun)isungrammatical.\\nSecond,measurenounsthatcanbeusedtoquantifymassnounscanbeusedwith\\nany mass noun (the measure noun gelas‘glass’ can be used for any mass noun),\\nand the measure noun chosen for a certain mass noun is not fixed (you can put\\nteainaglass,amug,athermos,akettle,aholeintheground,etc.).Classifierscan\\nonly be used with a specific subset of nouns. Third, measure nouns are alienable.\\nClassifiers, on the other hand, are prefixes that attach to numeral quantifiers.\\n6.1.2.3 Kinship terms\\nSome kinship terms behave differently from other nouns, being the only nouns\\nwithapluralform.Thisisacollectiveplural,whichmeansthepluralformsrefer\\ntoagroupasawhole.Allpluralsaremadewiththesuffix -muror-mumur ,which\\ndoes not occur elsewhere in the language. The imperative plural =ris described\\nin §14.2.1.3. Kinship terms that have a plural form are listed in Table 6.3.\\nTable 6.3 :Plural kinship terms\\nsingular plural\\n‘man; father; uncle (FB)’ esa esmumur\\n‘woman; mother; aunt (MZ)’ ema emumur\\n‘uncle (MB)’ mama mamamur\\n‘aunt (FZ)’ wowa wowamur\\n‘aunt (FZ)’ ulan ulanmur\\n‘grandfather’ tata tatamur\\n‘grandmother’ nina ninamur\\n‘grandparent, ancestor; grandchild’ tara taramur\\n‘parent in law; child in law’ ketan ketanmur\\n‘cross-cousin’ korap korapmur\\n‘parallel cousin opposite sex’ dudan dudanmur\\n‘parallel cousin same-sex’ kia kiamur\\n156'),\n",
       "  Document(metadata={'source': './resources/kalamang/grammar_book_long.txt'}, page_content=\"Second, there is a larger group of inalienable nouns that specify parts of a wholepart-of-whole. They almost always modify another noun, and tend to carry the third-person possessive marker -un. They typically refer to parts of plants or to ways of grouping units (e.g. poup- 'bundle'). Table contains the currently known examples from the corpus, but it is likely that more such forms exist. Forms marked with an asterisk are also classifiers, see §.\\nPart-whole nouns\\nThird, Kalamang has ten attested relational nounsnoun!relational. These must be in a locative or lative NP (e.g. elak yumetko 'bottom there' or elak=ka 'to/from below'), or carry one of the following suffixes:\\nthird-person possessive -un (indicating a part/whole-relationship), e.g. kewe mul-un 'house side-3poss', 'the side of the house'\\n-pis 'side', e.g. kit-pis 'top-side'\\n-kadok 'side', e.g. raor-kadok 'middle-side'\")],\n",
       " 'answer': \"Plural forms of nouns in Kalamang are constructed through reduplication for some nouns to indicate plurality, such as 'pes' becoming 'pespes' for 'peels; skins; leftovers after peeling' or 'tumun' becoming 'tumtum' for 'children'. However, not all nouns can be reduplicated to form a plural, and those that can reduplicate do not necessarily need to be reduplicated to have a plural referent.\"}"
      ]
     },
     "execution_count": 92,
     "metadata": {},
     "output_type": "execute_result"
    }
   ],
   "source": [
    "new_rag_chain.invoke({\"input\": \"How are plural forms of nouns constructed?\"})"
   ]
  },
  {
   "cell_type": "code",
   "execution_count": 24,
   "metadata": {},
   "outputs": [
    {
     "data": {
      "text/plain": [
       "'No, Kalamang does not contain definite and indefinite articles. The translations in the examples are based on context rather than specific articles. The NP in Kalamang is left-headed, with nominal possessors preceding the possessum.'"
      ]
     },
     "execution_count": 24,
     "metadata": {},
     "output_type": "execute_result"
    }
   ],
   "source": [
    "rag_chain.invoke(\"Does Kalamang contain definite and indefinite articles?\")"
   ]
  },
  {
   "cell_type": "code",
   "execution_count": 25,
   "metadata": {},
   "outputs": [
    {
     "data": {
      "text/plain": [
       "'Negations in sentences in Kalamang are formed by using the suffix \"-utak\" in the quantifying paradigm for different pronouns. The negation suffix \"-utak\" is added to the pronouns in order to indicate negation in the sentence. The basic pronoun paradigms in Kalamang include singular, dual, and plural forms with specific suffixes indicating negation.'"
      ]
     },
     "execution_count": 25,
     "metadata": {},
     "output_type": "execute_result"
    }
   ],
   "source": [
    "rag_chain.invoke(\"How are negations formed in sentences in Kalamang?\")"
   ]
  },
  {
   "cell_type": "code",
   "execution_count": 31,
   "metadata": {},
   "outputs": [
    {
     "data": {
      "text/plain": [
       "\"An example of a negation in Kalamang using the suffix '-utak' is 'inggaruokutak' which means 'only us three'. Dual forms in Kalamang cannot be suffixed with '-hutak', only with '-tak'. Forms like 'inggaruokutak' and 'inggansuortak' provide specificity on the number of people present.\""
      ]
     },
     "execution_count": 31,
     "metadata": {},
     "output_type": "execute_result"
    }
   ],
   "source": [
    "rag_chain.invoke(\"Show an example of a negation of a sentence in Kalamang that uses the suffix '-utak'.\")"
   ]
  },
  {
   "cell_type": "code",
   "execution_count": 42,
   "metadata": {},
   "outputs": [
    {
     "data": {
      "text/plain": [
       "{'input': 'What does -ahutak mean?',\n",
       " 'context': [Document(metadata={'page': 216, 'source': './resources/kalamang-grammar.pdf'}, page_content='[elic_pro_10]\\nNote also that the -(a)hutak forms seem to include the clitic =tak‘just, only’.\\nDual forms cannot be suffixed with -(a)hutak , only with -tak, e.g.iniertak means\\n‘only us two’. Perhaps these forms are comparable to the -(a)hutak forms. The\\ndual forms with -takgive the speaker the possibility to specify that there were\\nonly two people, no more, no less. Forms like * inggaruoktak ‘only us three’ and\\n*inggansuortak ‘only us four’ are not found in the corpus.'),\n",
       "  Document(metadata={'page': 216, 'source': './resources/kalamang/kalamang-grammar.pdf'}, page_content='[elic_pro_10]\\nNote also that the -(a)hutak forms seem to include the clitic =tak‘just, only’.\\nDual forms cannot be suffixed with -(a)hutak , only with -tak, e.g.iniertak means\\n‘only us two’. Perhaps these forms are comparable to the -(a)hutak forms. The\\ndual forms with -takgive the speaker the possibility to specify that there were\\nonly two people, no more, no less. Forms like * inggaruoktak ‘only us three’ and\\n*inggansuortak ‘only us four’ are not found in the corpus.'),\n",
       "  Document(metadata={'page': 216, 'source': './resources/kalamang/kalamang-grammar.pdf'}, page_content='[elic_pro_10]\\nNote also that the -(a)hutak forms seem to include the clitic =tak‘just, only’.\\nDual forms cannot be suffixed with -(a)hutak , only with -tak, e.g.iniertak means\\n‘only us two’. Perhaps these forms are comparable to the -(a)hutak forms. The\\ndual forms with -takgive the speaker the possibility to specify that there were\\nonly two people, no more, no less. Forms like * inggaruoktak ‘only us three’ and\\n*inggansuortak ‘only us four’ are not found in the corpus.'),\n",
       "  Document(metadata={'page': 216, 'source': './resources/kalamang/kalamang-grammar.pdf'}, page_content='changeable in some contexts. In ( 21), the form anahutak is the only correct one,\\nbecause there was only one person swimming. Andainwould have been correct\\nif the speaker intended to communicate that she swam without help, but that\\nwould have required a different context.\\n(21)sontum\\npersonreidak\\nmanyosep=ko\\nbeach=locan-ahutak/*-tain\\n1sg-alone/-alonejie\\nswim\\n‘There were many people at the beach [but] only I was swimming.’\\n[elic_pro_10]')],\n",
       " 'answer': 'The suffix -ahutak means \\'alone\\' or \\'only\\' in the context of specifying that there was only one person doing the action. For example, in the sentence \"There were many people at the beach, only I was swimming,\" the form anahutak is used to convey the meaning of \\'alone\\' or \\'only.\\''}"
      ]
     },
     "execution_count": 42,
     "metadata": {},
     "output_type": "execute_result"
    }
   ],
   "source": [
    "rag_chain.invoke({\"input\": \"What does -ahutak mean?\"})"
   ]
  },
  {
   "cell_type": "code",
   "execution_count": 71,
   "metadata": {},
   "outputs": [
    {
     "data": {
      "text/plain": [
       "'On page 451, you will find the Wordlist in the appendix.'"
      ]
     },
     "execution_count": 71,
     "metadata": {},
     "output_type": "execute_result"
    }
   ],
   "source": [
    "rag_chain.invoke(\"What is on page 451?\")"
   ]
  },
  {
   "cell_type": "code",
   "execution_count": 26,
   "metadata": {},
   "outputs": [
    {
     "data": {
      "text/plain": [
       "'Adjectives typically follow nouns in Kalamang.'"
      ]
     },
     "execution_count": 26,
     "metadata": {},
     "output_type": "execute_result"
    }
   ],
   "source": [
    "rag_chain.invoke(\"What is the typical placement of adjectives relative to nouns in Kalamang?\")"
   ]
  },
  {
   "cell_type": "code",
   "execution_count": 27,
   "metadata": {},
   "outputs": [
    {
     "data": {
      "text/plain": [
       "\"I don't know.\""
      ]
     },
     "execution_count": 27,
     "metadata": {},
     "output_type": "execute_result"
    }
   ],
   "source": [
    "rag_chain.invoke(\"What are the rules for subject-verb agreement in Kalamang?\")"
   ]
  },
  {
   "cell_type": "code",
   "execution_count": 28,
   "metadata": {},
   "outputs": [
    {
     "data": {
      "text/plain": [
       "'In Kalamang, irregular verbs are handled by inserting /n/ or /t/ before some enclitics and may have an optional /n/ on uninflected forms. They typically have a vowel-final imperative form instead of using imperative =te. Regular verbs can take mood enclitics directly on the root.'"
      ]
     },
     "execution_count": 28,
     "metadata": {},
     "output_type": "execute_result"
    }
   ],
   "source": [
    "rag_chain.invoke(\"How are irregular verbs handled in Kalamang?\")"
   ]
  },
  {
   "cell_type": "markdown",
   "metadata": {},
   "source": [
    "---\n",
    "## Try Query Expansion \n",
    "\n",
    "Here we use gpt-4o to paraphrase the original question in order to get a varied set of queries that can be run against the vector store. The idea is that multiple queries that are worded differently could provide a better match to the database/grammar book.\n",
    "\n",
    "https://python.langchain.com/v0.1/docs/use_cases/query_analysis/techniques/expansion/"
   ]
  },
  {
   "cell_type": "code",
   "execution_count": 12,
   "metadata": {},
   "outputs": [],
   "source": [
    "from langchain_core.pydantic_v1 import BaseModel, Field\n",
    "\n",
    "class ParaphrasedQuery(BaseModel):\n",
    "    \"\"\"You have performed query expansion to generate a paraphrasing of a question.\"\"\"\n",
    "\n",
    "    paraphrased_query: str = Field(\n",
    "        ...,\n",
    "        description=\"A unique paraphrasing of the original question.\",\n",
    "    )"
   ]
  },
  {
   "cell_type": "code",
   "execution_count": 45,
   "metadata": {},
   "outputs": [],
   "source": [
    "from langchain.output_parsers import PydanticToolsParser\n",
    "from langchain_core.prompts import ChatPromptTemplate\n",
    "from langchain_openai import ChatOpenAI\n",
    "\n",
    "from langchain.output_parsers import PydanticToolsParser\n",
    "from langchain_core.prompts import ChatPromptTemplate\n",
    "from langchain_openai import ChatOpenAI\n",
    "\n",
    "system = \"\"\"You are an expert at converting user questions into database queries. \\\n",
    "You have access to a vector database containing a language grammar book. \\\n",
    "\n",
    "Perform query expansion. If there are multiple common ways of phrasing a user question \\\n",
    "or common synonyms for key words in the question, make sure to return multiple versions \\\n",
    "of the query with the different phrasings. Using your knowledge of lingustics, \\\n",
    "provide an expanded prompt that that would assist with retrieving data \\\n",
    "from a vector store. The query expansion can include additional information that would be helpful \\\n",
    "to include in the query.\n",
    "\n",
    "Return at least 3 versions of the question.\"\"\"\n",
    "prompt = ChatPromptTemplate.from_messages(\n",
    "    [\n",
    "        (\"system\", system),\n",
    "        (\"human\", \"{question}\"),\n",
    "    ]\n",
    ")\n",
    "llm = ChatOpenAI(model=\"gpt-4o-2024-08-06\", temperature=0.7)\n",
    "llm_with_tools = llm.bind_tools([ParaphrasedQuery])\n",
    "query_analyzer = prompt | llm_with_tools | PydanticToolsParser(tools=[ParaphrasedQuery]) "
   ]
  },
  {
   "cell_type": "code",
   "execution_count": 47,
   "metadata": {},
   "outputs": [
    {
     "name": "stdout",
     "output_type": "stream",
     "text": [
      "paraphrased_query='What is the typical sentence structure in this language: subject-verb-object, subject-object-verb, or another order?'\n",
      "paraphrased_query='Is the word order in this language subject-verb-object, subject-object-verb, or a different arrangement?'\n",
      "paraphrased_query='How does this language typically order subjects, verbs, and objects in sentences? Is it SVO, SOV, or another structure?'\n"
     ]
    }
   ],
   "source": [
    "question = \"Does the language use subject-verb-object order or subject-object-verb order or something else?\"\n",
    "\n",
    "expanded_queries = query_analyzer.invoke(\n",
    "    {\n",
    "        \"question\": question\n",
    "    }\n",
    ")\n",
    "\n",
    "for query in expanded_queries:\n",
    "    print(query)"
   ]
  },
  {
   "cell_type": "code",
   "execution_count": null,
   "metadata": {},
   "outputs": [],
   "source": [
    "def run_expanded_queries()"
   ]
  },
  {
   "cell_type": "code",
   "execution_count": 9,
   "metadata": {},
   "outputs": [
    {
     "name": "stdout",
     "output_type": "stream",
     "text": [
      "content='{\\n  \"question_1\": {\\n    \"question\": \"What are definite and specific articles?\",\\n    \"summary\": \"An article serves as a marker accompanying a noun, indicating notions like specificity and definiteness, often referred to as \\'identifiability\\'. The form of expression, whether free, bound, or tonal, is irrelevant. Articles differ from demonstratives, which have spatial deictic functions. Although demonstratives can become articles, a clear distinction is that articles express definiteness without spatial deictic meaning.\"\\n  },\\n  \"question_2\": {\\n    \"question\": \"Can articles be definite or specific?\",\\n    \"summary\": \"Articles accompany nouns to denote specificity and definiteness, collectively termed \\'identifiability\\'. Their form can vary—free, bound, or suprasegmental like tone. Unlike demonstratives, which have spatial deictic functions, articles that result from grammaticalized demonstratives express definiteness without this spatial element, highlighting their distinct role.\"\\n  },\\n  \"question_3\": {\\n    \"question\": \"Are there articles that express definiteness or specificity?\",\\n    \"summary\": \"Articles function as markers with nouns, indicating specificity and definiteness, known as \\'identifiability\\'. The formal aspect, whether free, bound, or tonal, is not crucial. Articles are distinct from demonstratives, which have spatial deictic roles. When demonstratives become articles, they maintain definiteness expression without spatial context, distinguishing them as articles.\"\\n  }\\n}' additional_kwargs={'parsed': None, 'refusal': None} response_metadata={'token_usage': {'completion_tokens': 301, 'prompt_tokens': 293, 'total_tokens': 594, 'prompt_tokens_details': {'cached_tokens': 0, 'audio_tokens': 0}, 'completion_tokens_details': {'reasoning_tokens': 0, 'audio_tokens': 0, 'accepted_prediction_tokens': 0, 'rejected_prediction_tokens': 0}}, 'model_name': 'gpt-4o-2024-08-06', 'system_fingerprint': 'fp_831e067d82', 'finish_reason': 'stop', 'logprobs': None} id='run-1dcef9d5-8adf-499a-9741-bed7d5d3c7da-0' usage_metadata={'input_tokens': 293, 'output_tokens': 301, 'total_tokens': 594}\n"
     ]
    }
   ],
   "source": [
    "# Define the model\n",
    "model = ChatOpenAI(\n",
    "    model=\"gpt-4o-2024-08-06\",\n",
    "    model_kwargs={ \"response_format\": {\"type\": \"json_object\"}},\n",
    ")\n",
    "\n",
    "# Define a model for paraphrasing\n",
    "paraphrase_system_template = (\n",
    "    \"You are an expert at converting user questions into database queries.\"\n",
    "    \"Perform query expansion. If there are multiple common ways of phrasing \"\n",
    "    \"a user question or common synonyms for key words in the question, make \"\n",
    "    \"sure to return multiple versions of the query with the different \"\n",
    "    \"phrasings. These are linguistic questions and additional information \"\n",
    "    \"about the question is provided. Return 3 versions of the question and \" \n",
    "    \"summary combo in json format, where the \"\n",
    "    \"keys are question_1, question_2, and question_3, and the value for each\"\n",
    "    \"key is a json dict where the keys are question and summary\"\n",
    ")\n",
    "\n",
    "paraphrase_user_template = (\n",
    "    \"Here is the question:\\n\"\n",
    "    \"{question}\\n\"\n",
    "    \"Here is the summary:\\n\"\n",
    "    \"{summary}\"\n",
    ")\n",
    "\n",
    "paraphrase_prompt_template = ChatPromptTemplate.from_messages(\n",
    "    [(\"system\", paraphrase_system_template), (\"user\", paraphrase_user_template)]\n",
    ")\n",
    "\n",
    "expansion_chain = (\n",
    "    paraphrase_prompt_template |\n",
    "    model\n",
    ")\n",
    "\n",
    "\n",
    "example = {\n",
    "    'question': \"Are there definite or specific articles?\",\n",
    "    'summary': \"An article is a marker that accompanies the noun and expresses notions such as (non-)specificity and (in)definiteness. Sometimes these notions of specificity and definiteness are summed up in the term 'identifiability'. The formal expression is irrelevant; articles can be free, bound, or marked by suprasegmental markers such as tone.\\nArticles are different from demonstratives in that demonstratives occur in a paradigm of markers that have a clear spatial deictic function. As demonstratives can grammaticalize into definite or specific articles, they form a natural continuum, making it hard to define discrete categories, but to qualify as an article a marker should be used in some cases to express definiteness without also expressing a spatial deictic meaning.\\n\\n\\n\"\n",
    "}\n",
    "\n",
    "a = expansion_chain.invoke(example)\n",
    "print(a)"
   ]
  },
  {
   "cell_type": "code",
   "execution_count": 17,
   "metadata": {},
   "outputs": [],
   "source": [
    "import json\n",
    "hus = json.loads(a.content)"
   ]
  },
  {
   "cell_type": "code",
   "execution_count": 26,
   "metadata": {},
   "outputs": [
    {
     "data": {
      "text/plain": [
       "dict"
      ]
     },
     "execution_count": 26,
     "metadata": {},
     "output_type": "execute_result"
    }
   ],
   "source": [
    "type(hus)"
   ]
  },
  {
   "cell_type": "code",
   "execution_count": 29,
   "metadata": {},
   "outputs": [
    {
     "name": "stdout",
     "output_type": "stream",
     "text": [
      "An article serves as a marker accompanying a noun, indicating notions like specificity and definiteness, often referred to as 'identifiability'. The form of expression, whether free, bound, or tonal, is irrelevant. Articles differ from demonstratives, which have spatial deictic functions. Although demonstratives can become articles, a clear distinction is that articles express definiteness without spatial deictic meaning.\n",
      "Articles accompany nouns to denote specificity and definiteness, collectively termed 'identifiability'. Their form can vary—free, bound, or suprasegmental like tone. Unlike demonstratives, which have spatial deictic functions, articles that result from grammaticalized demonstratives express definiteness without this spatial element, highlighting their distinct role.\n",
      "Articles function as markers with nouns, indicating specificity and definiteness, known as 'identifiability'. The formal aspect, whether free, bound, or tonal, is not crucial. Articles are distinct from demonstratives, which have spatial deictic roles. When demonstratives become articles, they maintain definiteness expression without spatial context, distinguishing them as articles.\n"
     ]
    }
   ],
   "source": [
    "for i in hus:\n",
    "    print(hus[i]['summary'])"
   ]
  },
  {
   "cell_type": "markdown",
   "metadata": {},
   "source": [
    "## Try Hypothetical Document Embedding (HyDE)\n",
    "\n",
    "https://python.langchain.com/v0.1/docs/use_cases/query_analysis/#techniques\n",
    "\n",
    "https://arxiv.org/pdf/2212.10496.pdf\n",
    "\n"
   ]
  },
  {
   "cell_type": "markdown",
   "metadata": {},
   "source": [
    "---\n",
    "## Try using agents"
   ]
  },
  {
   "cell_type": "code",
   "execution_count": 99,
   "metadata": {},
   "outputs": [
    {
     "name": "stderr",
     "output_type": "stream",
     "text": [
      "/Users/jonhus/vs-code/grammar-rag/venv/lib/python3.12/site-packages/langsmith/client.py:322: LangSmithMissingAPIKeyWarning: API key must be provided when using hosted LangSmith API\n",
      "  warnings.warn(\n"
     ]
    }
   ],
   "source": [
    "retriever = db_chroma.as_retriever()\n",
    "prompt = hub.pull(\"rlm/rag-prompt\")\n",
    "llm = ChatOpenAI()"
   ]
  },
  {
   "cell_type": "code",
   "execution_count": 100,
   "metadata": {},
   "outputs": [
    {
     "data": {
      "text/plain": [
       "AIMessage(content='Hello! How can I assist you today?', additional_kwargs={'refusal': None}, response_metadata={'token_usage': {'completion_tokens': 9, 'prompt_tokens': 8, 'total_tokens': 17, 'completion_tokens_details': {'reasoning_tokens': 0}}, 'model_name': 'gpt-3.5-turbo-0125', 'system_fingerprint': None, 'finish_reason': 'stop', 'logprobs': None}, id='run-74b47a41-62e6-45d5-9de5-3cc69f6628f7-0', usage_metadata={'input_tokens': 8, 'output_tokens': 9, 'total_tokens': 17})"
      ]
     },
     "execution_count": 100,
     "metadata": {},
     "output_type": "execute_result"
    }
   ],
   "source": [
    "llm.invoke(\"hello\")"
   ]
  },
  {
   "cell_type": "code",
   "execution_count": 106,
   "metadata": {},
   "outputs": [
    {
     "ename": "TypeError",
     "evalue": "unsupported operand type(s) for |: 'dict' and 'str'",
     "output_type": "error",
     "traceback": [
      "\u001b[0;31m---------------------------------------------------------------------------\u001b[0m",
      "\u001b[0;31mTypeError\u001b[0m                                 Traceback (most recent call last)",
      "Cell \u001b[0;32mIn[106], line 10\u001b[0m\n\u001b[1;32m      1\u001b[0m \u001b[38;5;66;03m# from langchain.tools import ChainTool\u001b[39;00m\n\u001b[1;32m      2\u001b[0m \n\u001b[1;32m      3\u001b[0m \u001b[38;5;66;03m# hus_tool = ChainTool({\u001b[39;00m\n\u001b[0;32m   (...)\u001b[0m\n\u001b[1;32m      6\u001b[0m \n\u001b[1;32m      7\u001b[0m \u001b[38;5;66;03m# })\u001b[39;00m\n\u001b[1;32m      9\u001b[0m db_chain \u001b[38;5;241m=\u001b[39m (\n\u001b[0;32m---> 10\u001b[0m     \u001b[43m{\u001b[49m\u001b[38;5;124;43m\"\u001b[39;49m\u001b[38;5;124;43mcontext\u001b[39;49m\u001b[38;5;124;43m\"\u001b[39;49m\u001b[43m:\u001b[49m\u001b[43m \u001b[49m\u001b[43mretriever\u001b[49m\u001b[43m \u001b[49m\u001b[38;5;241;43m|\u001b[39;49m\u001b[43m \u001b[49m\u001b[43mformat_pages\u001b[49m\u001b[43m,\u001b[49m\u001b[43m \u001b[49m\u001b[38;5;124;43m\"\u001b[39;49m\u001b[38;5;124;43mquestion\u001b[39;49m\u001b[38;5;124;43m\"\u001b[39;49m\u001b[43m:\u001b[49m\u001b[43m \u001b[49m\u001b[43mRunnablePassthrough\u001b[49m\u001b[43m(\u001b[49m\u001b[43m)\u001b[49m\u001b[43m}\u001b[49m\n\u001b[1;32m     11\u001b[0m \u001b[43m    \u001b[49m\u001b[38;5;241;43m|\u001b[39;49m\u001b[43m \u001b[49m\u001b[43mprompt\u001b[49m\n\u001b[1;32m     12\u001b[0m     \u001b[38;5;241m|\u001b[39m llm\n\u001b[1;32m     13\u001b[0m     \u001b[38;5;241m|\u001b[39m StrOutputParser()\n\u001b[1;32m     14\u001b[0m )\n\u001b[1;32m     16\u001b[0m tool \u001b[38;5;241m=\u001b[39m db_chain\u001b[38;5;241m.\u001b[39mas_tool(\n\u001b[1;32m     17\u001b[0m     name\u001b[38;5;241m=\u001b[39m\u001b[38;5;124m\"\u001b[39m\u001b[38;5;124mGrammarBookSearch\u001b[39m\u001b[38;5;124m\"\u001b[39m,\n\u001b[1;32m     18\u001b[0m     description\u001b[38;5;241m=\u001b[39m\u001b[38;5;124m'\u001b[39m\u001b[38;5;124mSearch the contents of the grammar book in the vector store\u001b[39m\u001b[38;5;124m'\u001b[39m\n\u001b[1;32m     19\u001b[0m )\n",
      "\u001b[0;31mTypeError\u001b[0m: unsupported operand type(s) for |: 'dict' and 'str'"
     ]
    }
   ],
   "source": [
    "# from langchain.tools import ChainTool\n",
    "\n",
    "# hus_tool = ChainTool({\n",
    "#     'name': 'my-tool',\n",
    "#     'description': 'search the contents of the grammar book in the vector store',\n",
    "\n",
    "# })\n",
    "\n",
    "db_chain = (\n",
    "    {\"context\": retriever | format_pages, \"question\": RunnablePassthrough()}\n",
    "    | prompt\n",
    "    | llm\n",
    "    | StrOutputParser()\n",
    ")\n",
    "\n",
    "tool = db_chain.as_tool(\n",
    "    name=\"GrammarBookSearch\",\n",
    "    description='Search the contents of the grammar book in the vector store'\n",
    ")"
   ]
  },
  {
   "cell_type": "code",
   "execution_count": 102,
   "metadata": {},
   "outputs": [],
   "source": [
    "# from langchain_community.tools.vectorstore.tool import VectorStoreQATool\n",
    "\n",
    "# tool = VectorStoreQATool()\n",
    "\n",
    "from langgraph.graph import StateGraph, END\n",
    "from typing import TypedDict, Annotated\n",
    "from langchain_core.messages import AnyMessage, SystemMessage, HumanMessage, ToolMessage\n",
    "import operator\n",
    "\n",
    "class AgentState(TypedDict):\n",
    "    messages: Annotated[list[AnyMessage], operator.add]\n",
    "\n",
    "class Agent:\n",
    "\n",
    "    def __init__(self, model, tools, system=\"\"):\n",
    "        self.system = system\n",
    "        graph = StateGraph(AgentState)\n",
    "        graph.add_node(\"llm\", self.call_openai)\n",
    "        graph.add_node(\"action\", self.take_action)\n",
    "        graph.add_conditional_edges(\n",
    "            \"llm\",\n",
    "            self.exists_action,\n",
    "            {True: \"action\", False: END}\n",
    "        )\n",
    "        graph.add_edge(\"action\", \"llm\")\n",
    "        graph.set_entry_point(\"llm\")\n",
    "        self.graph = graph.compile()\n",
    "        self.tools = {t.name: t for t in tools}\n",
    "        self.model = model.bind_tools(tools)\n",
    "\n",
    "    def exists_action(self, state: AgentState):\n",
    "        result = state['messages'][-1]\n",
    "        return len(result.tool_calls) > 0\n",
    "\n",
    "    def call_openai(self, state: AgentState):\n",
    "        messages = state['messages']\n",
    "        if self.system:\n",
    "            messages = [SystemMessage(content=self.system)] + messages\n",
    "        message = self.model.invoke(messages)\n",
    "        return {'messages': [message]}\n",
    "    \n",
    "    def take_action(self, state: AgentState):\n",
    "        tool_calls = state['messages'][-1].tool_calls\n",
    "        results = []\n",
    "        for t in tool_calls:\n",
    "            print(f\"Calling: {t}\")\n",
    "            if not t['name'] in self.tools:      # check for bad tool name from LLM\n",
    "                print(\"\\n ....bad tool name....\")\n",
    "                result = \"bad tool name, retry\"  # instruct LLM to retry if bad\n",
    "            else:\n",
    "                result = self.tools[t['name']].invoke(t['args'])\n",
    "            results.append(ToolMessage(tool_call_id=t['id'], name=t['name'], content=str(result)))\n",
    "        print(\"Back to the model!\")\n",
    "        return {'messages': results}\n"
   ]
  },
  {
   "cell_type": "code",
   "execution_count": 103,
   "metadata": {},
   "outputs": [
    {
     "ename": "NameError",
     "evalue": "name 'tool' is not defined",
     "output_type": "error",
     "traceback": [
      "\u001b[0;31m---------------------------------------------------------------------------\u001b[0m",
      "\u001b[0;31mNameError\u001b[0m                                 Traceback (most recent call last)",
      "Cell \u001b[0;32mIn[103], line 9\u001b[0m\n\u001b[1;32m      1\u001b[0m prompt \u001b[38;5;241m=\u001b[39m \u001b[38;5;124m\"\"\"\u001b[39m\u001b[38;5;124mYou are a smart language translator and linguist tasked with answering \u001b[39m\u001b[38;5;130;01m\\\u001b[39;00m\n\u001b[1;32m      2\u001b[0m \u001b[38;5;124mquestions about a new language. You have access to a grammar book and can query the \u001b[39m\u001b[38;5;130;01m\\\u001b[39;00m\n\u001b[1;32m      3\u001b[0m \u001b[38;5;124mgrammar book multiple times to determine information about the language. \u001b[39m\u001b[38;5;130;01m\\\u001b[39;00m\n\u001b[1;32m      4\u001b[0m \u001b[38;5;124mYou must make at least 3 independent queries to the grammar book tool. \u001b[39m\u001b[38;5;130;01m\\\u001b[39;00m\n\u001b[1;32m      5\u001b[0m \u001b[38;5;124mIf you need to look up some information before asking a follow up question, you are allowed to do that!\u001b[39m\n\u001b[1;32m      6\u001b[0m \u001b[38;5;124m\"\"\"\u001b[39m\n\u001b[1;32m      8\u001b[0m model \u001b[38;5;241m=\u001b[39m ChatOpenAI(model\u001b[38;5;241m=\u001b[39m\u001b[38;5;124m\"\u001b[39m\u001b[38;5;124mgpt-3.5-turbo\u001b[39m\u001b[38;5;124m\"\u001b[39m)  \u001b[38;5;66;03m#reduce inference cost\u001b[39;00m\n\u001b[0;32m----> 9\u001b[0m abot \u001b[38;5;241m=\u001b[39m Agent(model, [\u001b[43mtool\u001b[49m], system\u001b[38;5;241m=\u001b[39mprompt)\n",
      "\u001b[0;31mNameError\u001b[0m: name 'tool' is not defined"
     ]
    }
   ],
   "source": [
    "prompt = \"\"\"You are a smart language translator and linguist tasked with answering \\\n",
    "questions about a new language. You have access to a grammar book and can query the \\\n",
    "grammar book multiple times to determine information about the language. \\\n",
    "You must make at least 3 independent queries to the grammar book tool. \\\n",
    "If you need to look up some information before asking a follow up question, you are allowed to do that!\n",
    "\"\"\"\n",
    "\n",
    "model = ChatOpenAI(model=\"gpt-3.5-turbo\")  #reduce inference cost\n",
    "abot = Agent(model, [tool], system=prompt)"
   ]
  },
  {
   "cell_type": "code",
   "execution_count": 32,
   "metadata": {},
   "outputs": [
    {
     "data": {
      "image/png": "[encoded data removed]",
      "text/plain": [
       "<IPython.core.display.Image object>"
      ]
     },
     "execution_count": 32,
     "metadata": {},
     "output_type": "execute_result"
    }
   ],
   "source": [
    "from IPython.display import Image\n",
    "\n",
    "Image(abot.graph.get_graph().draw_png())"
   ]
  },
  {
   "cell_type": "code",
   "execution_count": 54,
   "metadata": {},
   "outputs": [
    {
     "name": "stdout",
     "output_type": "stream",
     "text": [
      "Calling: {'name': 'GrammarBookSearch', 'args': {'__arg1': 'island'}, 'id': 'call_MJoI06gS0yjECaOTs4Edlukj', 'type': 'tool_call'}\n",
      "Back to the model!\n"
     ]
    }
   ],
   "source": [
    "# messages = [HumanMessage(content=\"Does Kalamang use subject-verb-object order to subject-object-verb order?\")]\n",
    "# messages = [HumanMessage(content=\"How are negations formed in sentences in Kalamang?\")]\n",
    "# messages = [HumanMessage(content=\"How are plural forms of nouns constructed?\")]\n",
    "messages = [HumanMessage(content=\"What's the translation for island?\")]\n",
    "\n",
    "\n",
    "result = abot.graph.invoke({'messages': messages})"
   ]
  },
  {
   "cell_type": "code",
   "execution_count": 55,
   "metadata": {},
   "outputs": [
    {
     "data": {
      "text/plain": [
       "'The translation for \"island\" in the language is \"Kalamang Island\".'"
      ]
     },
     "execution_count": 55,
     "metadata": {},
     "output_type": "execute_result"
    }
   ],
   "source": [
    "result['messages'][-1].content"
   ]
  },
  {
   "cell_type": "code",
   "execution_count": null,
   "metadata": {},
   "outputs": [],
   "source": [
    "# Not sure what this was used for. keep it for now.\n",
    "\n",
    "retriever = db_chroma.as_retriever()\n",
    "\n",
    "from langchain.chat_models import ChatOpenAI\n",
    "from langchain.chains import RetrievalQA\n",
    "llm = ChatOpenAI(temperature=0.7)\n",
    "\n",
    "qa_chain = RetrievalQA.from_chain_type(\n",
    "    llm=llm,\n",
    "    chain_type=\"stuff\",\n",
    "    retriever=retriever,\n",
    "    verbose=True\n",
    ")"
   ]
  }
 ],
 "metadata": {
  "kernelspec": {
   "display_name": "venv",
   "language": "python",
   "name": "python3"
  },
  "language_info": {
   "codemirror_mode": {
    "name": "ipython",
    "version": 3
   },
   "file_extension": ".py",
   "mimetype": "text/x-python",
   "name": "python",
   "nbconvert_exporter": "python",
   "pygments_lexer": "ipython3",
   "version": "3.12.4"
  }
 },
 "nbformat": 4,
 "nbformat_minor": 2
}
