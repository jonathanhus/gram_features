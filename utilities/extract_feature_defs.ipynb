{
 "cells": [
  {
   "cell_type": "markdown",
   "metadata": {},
   "source": [
    "# Extract Feature Definitions\n",
    "\n",
    "Reads the definitions from https://github.com/grambank/grambank/wiki/List-of-all-features \\\n",
    "Wiki has been cloned (https://github.com/grambank/grambank.wiki.git) and each feature is in a GB###.md file"
   ]
  },
  {
   "cell_type": "code",
   "execution_count": 15,
   "metadata": {},
   "outputs": [],
   "source": [
    "def parse_markdown(file):\n",
    "    json_data = dict()\n",
    "    with open(file) as f:\n",
    "        firstline = True\n",
    "        have_key = False\n",
    "        json_data['id'] = file.split('.')[0].strip()\n",
    "        json_data['source'] = file\n",
    "        for line in f:\n",
    "            if line.startswith(\"##\") and firstline:\n",
    "                # print(line.strip())\n",
    "                firstline = False\n",
    "                json_data['feature'] = line.split('##')[1].strip()\n",
    "            elif line.startswith(\"##\"):\n",
    "                # Check to see if prev key/value pair are ready to be stored\n",
    "                if have_key:\n",
    "                    json_data[key] = dict_value\n",
    "                key = line.split('##')[1].strip()\n",
    "                have_key = True\n",
    "                dict_value = ''\n",
    "                # print(key)\n",
    "            elif have_key:\n",
    "                # Assume we have a heading for a key\n",
    "                dict_value = dict_value + line\n",
    "            elif line == '\\n':\n",
    "                # print(\"blank line\")\n",
    "                pass\n",
    "            else:\n",
    "                print(\"shouldn't get here\")\n",
    "        # Add the last heading/text pair to the dict\n",
    "        json_data[key] = dict_value\n",
    "    return json_data"
   ]
  },
  {
   "cell_type": "code",
   "execution_count": 16,
   "metadata": {},
   "outputs": [],
   "source": [
    "# Location of feature definition files\n",
    "import glob\n",
    "import os\n",
    "import json\n",
    "from pathlib import Path\n",
    "grambank_dir = \"../../grambank/grambank.wiki/\"\n",
    "\n",
    "os.chdir(grambank_dir)\n",
    "\n",
    "resources_dir = \"../../grammar-rag/resources/grambank/features/\"\n",
    "Path(resources_dir).mkdir(parents=True, exist_ok=True)\n",
    "\n",
    "files = [file for file in glob.glob('GB*.md')]\n",
    "\n",
    "# Create a json file for each feature\n",
    "for file in files:\n",
    "    # if file == \"GB110.md\":\n",
    "        result = parse_markdown(file)\n",
    "        filename = file.split('.')[0] + '.json'\n",
    "        with open(resources_dir + filename, 'w') as f:\n",
    "            json.dump(result, f, ensure_ascii=False, indent=4)\n",
    "\n",
    "# Create a single json file with all features\n",
    "all_features = dict()\n",
    "for file in sorted(files):\n",
    "    result = parse_markdown(file)\n",
    "    feature_id = file.split('.')[0]\n",
    "    all_features[feature_id] = result\n",
    "\n",
    "filename = 'all_features.json'\n",
    "with open(resources_dir + filename, 'w') as f:\n",
    "    json.dump(all_features, f, ensure_ascii=False, indent=4)\n"
   ]
  },
  {
   "cell_type": "code",
   "execution_count": 17,
   "metadata": {},
   "outputs": [
    {
     "data": {
      "text/plain": [
       "dict_keys(['GB020', 'GB021', 'GB022', 'GB023', 'GB024', 'GB025', 'GB026', 'GB027', 'GB028', 'GB030', 'GB031', 'GB035', 'GB036', 'GB037', 'GB038', 'GB039', 'GB041', 'GB042', 'GB043', 'GB044', 'GB046', 'GB047', 'GB048', 'GB049', 'GB051', 'GB052', 'GB053', 'GB054', 'GB057', 'GB058', 'GB059', 'GB065', 'GB068', 'GB069', 'GB070', 'GB071', 'GB072', 'GB073', 'GB074', 'GB075', 'GB079', 'GB080', 'GB081', 'GB082', 'GB083', 'GB084', 'GB086', 'GB089', 'GB090', 'GB091', 'GB092', 'GB093', 'GB094', 'GB095', 'GB096', 'GB098', 'GB099', 'GB103', 'GB104', 'GB105', 'GB107', 'GB108', 'GB109', 'GB110', 'GB111', 'GB113', 'GB114', 'GB115', 'GB116', 'GB117', 'GB118', 'GB119', 'GB120', 'GB121', 'GB122', 'GB123', 'GB124', 'GB126', 'GB127', 'GB129', 'GB130', 'GB131', 'GB132', 'GB133', 'GB134', 'GB135', 'GB136', 'GB137', 'GB138', 'GB139', 'GB140', 'GB146', 'GB147', 'GB148', 'GB149', 'GB150', 'GB151', 'GB152', 'GB155', 'GB156', 'GB158', 'GB159', 'GB160', 'GB165', 'GB166', 'GB167', 'GB170', 'GB171', 'GB172', 'GB177', 'GB184', 'GB185', 'GB186', 'GB187', 'GB188', 'GB192', 'GB193', 'GB196', 'GB197', 'GB198', 'GB203', 'GB204', 'GB250', 'GB252', 'GB253', 'GB254', 'GB256', 'GB257', 'GB260', 'GB262', 'GB263', 'GB264', 'GB265', 'GB266', 'GB270', 'GB273', 'GB275', 'GB276', 'GB285', 'GB286', 'GB291', 'GB296', 'GB297', 'GB298', 'GB299', 'GB300', 'GB301', 'GB302', 'GB303', 'GB304', 'GB305', 'GB306', 'GB309', 'GB312', 'GB313', 'GB314', 'GB315', 'GB316', 'GB317', 'GB318', 'GB319', 'GB320', 'GB321', 'GB322', 'GB323', 'GB324', 'GB325', 'GB326', 'GB327', 'GB328', 'GB329', 'GB330', 'GB331', 'GB333', 'GB334', 'GB335', 'GB336', 'GB400', 'GB401', 'GB402', 'GB403', 'GB408', 'GB409', 'GB410', 'GB415', 'GB421', 'GB422', 'GB430', 'GB431', 'GB432', 'GB433', 'GB519', 'GB520', 'GB521', 'GB522'])"
      ]
     },
     "execution_count": 17,
     "metadata": {},
     "output_type": "execute_result"
    }
   ],
   "source": [
    "all_features.keys()"
   ]
  }
 ],
 "metadata": {
  "kernelspec": {
   "display_name": "venv",
   "language": "python",
   "name": "python3"
  },
  "language_info": {
   "codemirror_mode": {
    "name": "ipython",
    "version": 3
   },
   "file_extension": ".py",
   "mimetype": "text/x-python",
   "name": "python",
   "nbconvert_exporter": "python",
   "pygments_lexer": "ipython3",
   "version": "3.12.4"
  }
 },
 "nbformat": 4,
 "nbformat_minor": 2
}
